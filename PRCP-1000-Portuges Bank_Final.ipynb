{
 "cells": [
  {
   "cell_type": "markdown",
   "id": "575be22b",
   "metadata": {},
   "source": [
    "PRCP-1000-Portuges Bank"
   ]
  },
  {
   "cell_type": "markdown",
   "id": "120cc7c5",
   "metadata": {},
   "source": [
    "# Business Case"
   ]
  },
  {
   "cell_type": "markdown",
   "id": "4735f6ee",
   "metadata": {},
   "source": [
    "This dataset is about the direct phone call marketing campaigns, which aim to promote term deposits among existing customers,\n",
    "by a Portuguese banking institution from May 2008 to November 2010."
   ]
  },
  {
   "cell_type": "markdown",
   "id": "0307b37d",
   "metadata": {},
   "source": [
    "**The Goal of this data analysis is as follows:**\n",
    "\n",
    "Prepare a complete data analysis report on the given data.\n",
    "\n",
    "Create a predictive model which will help the bank marketing team to know which customer will buy the product.\n",
    "\n",
    "Suggestions to the Bank market team to make  customers  buy the product.\n"
   ]
  },
  {
   "cell_type": "markdown",
   "id": "445db9fa",
   "metadata": {},
   "source": [
    "# Task 1:-Prepare a complete data analysis report on the given data."
   ]
  },
  {
   "cell_type": "markdown",
   "id": "847180d3",
   "metadata": {},
   "source": [
    "#### Importing Libraries"
   ]
  },
  {
   "cell_type": "code",
   "execution_count": 1,
   "id": "dd138251",
   "metadata": {},
   "outputs": [],
   "source": [
    "import numpy as np\n",
    "import pandas as pd\n",
    "import seaborn as sns\n",
    "import matplotlib.pyplot as plt\n",
    "%matplotlib inline\n",
    "import warnings\n",
    "warnings.filterwarnings('ignore')"
   ]
  },
  {
   "cell_type": "markdown",
   "id": "ebc1923d",
   "metadata": {},
   "source": [
    "#### Reading in the dataset"
   ]
  },
  {
   "cell_type": "code",
   "execution_count": 2,
   "id": "90f943c8",
   "metadata": {},
   "outputs": [
    {
     "data": {
      "text/html": [
       "<div>\n",
       "<style scoped>\n",
       "    .dataframe tbody tr th:only-of-type {\n",
       "        vertical-align: middle;\n",
       "    }\n",
       "\n",
       "    .dataframe tbody tr th {\n",
       "        vertical-align: top;\n",
       "    }\n",
       "\n",
       "    .dataframe thead th {\n",
       "        text-align: right;\n",
       "    }\n",
       "</style>\n",
       "<table border=\"1\" class=\"dataframe\">\n",
       "  <thead>\n",
       "    <tr style=\"text-align: right;\">\n",
       "      <th></th>\n",
       "      <th>age</th>\n",
       "      <th>job</th>\n",
       "      <th>marital</th>\n",
       "      <th>education</th>\n",
       "      <th>default</th>\n",
       "      <th>housing</th>\n",
       "      <th>loan</th>\n",
       "      <th>contact</th>\n",
       "      <th>month</th>\n",
       "      <th>day_of_week</th>\n",
       "      <th>duration</th>\n",
       "      <th>campaign</th>\n",
       "      <th>pdays</th>\n",
       "      <th>previous</th>\n",
       "      <th>poutcome</th>\n",
       "      <th>emp.var.rate</th>\n",
       "      <th>cons.price.idx</th>\n",
       "      <th>cons.conf.idx</th>\n",
       "      <th>euribor3m</th>\n",
       "      <th>nr.employed</th>\n",
       "      <th>y</th>\n",
       "    </tr>\n",
       "  </thead>\n",
       "  <tbody>\n",
       "    <tr>\n",
       "      <th>0</th>\n",
       "      <td>56</td>\n",
       "      <td>housemaid</td>\n",
       "      <td>married</td>\n",
       "      <td>basic.4y</td>\n",
       "      <td>no</td>\n",
       "      <td>no</td>\n",
       "      <td>no</td>\n",
       "      <td>telephone</td>\n",
       "      <td>may</td>\n",
       "      <td>mon</td>\n",
       "      <td>261</td>\n",
       "      <td>1</td>\n",
       "      <td>999</td>\n",
       "      <td>0</td>\n",
       "      <td>nonexistent</td>\n",
       "      <td>1.1</td>\n",
       "      <td>93.994</td>\n",
       "      <td>-36.4</td>\n",
       "      <td>4.857</td>\n",
       "      <td>5191.0</td>\n",
       "      <td>no</td>\n",
       "    </tr>\n",
       "    <tr>\n",
       "      <th>1</th>\n",
       "      <td>57</td>\n",
       "      <td>services</td>\n",
       "      <td>married</td>\n",
       "      <td>high.school</td>\n",
       "      <td>unknown</td>\n",
       "      <td>no</td>\n",
       "      <td>no</td>\n",
       "      <td>telephone</td>\n",
       "      <td>may</td>\n",
       "      <td>mon</td>\n",
       "      <td>149</td>\n",
       "      <td>1</td>\n",
       "      <td>999</td>\n",
       "      <td>0</td>\n",
       "      <td>nonexistent</td>\n",
       "      <td>1.1</td>\n",
       "      <td>93.994</td>\n",
       "      <td>-36.4</td>\n",
       "      <td>4.857</td>\n",
       "      <td>5191.0</td>\n",
       "      <td>no</td>\n",
       "    </tr>\n",
       "    <tr>\n",
       "      <th>2</th>\n",
       "      <td>37</td>\n",
       "      <td>services</td>\n",
       "      <td>married</td>\n",
       "      <td>high.school</td>\n",
       "      <td>no</td>\n",
       "      <td>yes</td>\n",
       "      <td>no</td>\n",
       "      <td>telephone</td>\n",
       "      <td>may</td>\n",
       "      <td>mon</td>\n",
       "      <td>226</td>\n",
       "      <td>1</td>\n",
       "      <td>999</td>\n",
       "      <td>0</td>\n",
       "      <td>nonexistent</td>\n",
       "      <td>1.1</td>\n",
       "      <td>93.994</td>\n",
       "      <td>-36.4</td>\n",
       "      <td>4.857</td>\n",
       "      <td>5191.0</td>\n",
       "      <td>no</td>\n",
       "    </tr>\n",
       "    <tr>\n",
       "      <th>3</th>\n",
       "      <td>40</td>\n",
       "      <td>admin.</td>\n",
       "      <td>married</td>\n",
       "      <td>basic.6y</td>\n",
       "      <td>no</td>\n",
       "      <td>no</td>\n",
       "      <td>no</td>\n",
       "      <td>telephone</td>\n",
       "      <td>may</td>\n",
       "      <td>mon</td>\n",
       "      <td>151</td>\n",
       "      <td>1</td>\n",
       "      <td>999</td>\n",
       "      <td>0</td>\n",
       "      <td>nonexistent</td>\n",
       "      <td>1.1</td>\n",
       "      <td>93.994</td>\n",
       "      <td>-36.4</td>\n",
       "      <td>4.857</td>\n",
       "      <td>5191.0</td>\n",
       "      <td>no</td>\n",
       "    </tr>\n",
       "    <tr>\n",
       "      <th>4</th>\n",
       "      <td>56</td>\n",
       "      <td>services</td>\n",
       "      <td>married</td>\n",
       "      <td>high.school</td>\n",
       "      <td>no</td>\n",
       "      <td>no</td>\n",
       "      <td>yes</td>\n",
       "      <td>telephone</td>\n",
       "      <td>may</td>\n",
       "      <td>mon</td>\n",
       "      <td>307</td>\n",
       "      <td>1</td>\n",
       "      <td>999</td>\n",
       "      <td>0</td>\n",
       "      <td>nonexistent</td>\n",
       "      <td>1.1</td>\n",
       "      <td>93.994</td>\n",
       "      <td>-36.4</td>\n",
       "      <td>4.857</td>\n",
       "      <td>5191.0</td>\n",
       "      <td>no</td>\n",
       "    </tr>\n",
       "  </tbody>\n",
       "</table>\n",
       "</div>"
      ],
      "text/plain": [
       "   age        job  marital    education  default housing loan    contact  \\\n",
       "0   56  housemaid  married     basic.4y       no      no   no  telephone   \n",
       "1   57   services  married  high.school  unknown      no   no  telephone   \n",
       "2   37   services  married  high.school       no     yes   no  telephone   \n",
       "3   40     admin.  married     basic.6y       no      no   no  telephone   \n",
       "4   56   services  married  high.school       no      no  yes  telephone   \n",
       "\n",
       "  month day_of_week  duration  campaign  pdays  previous     poutcome  \\\n",
       "0   may         mon       261         1    999         0  nonexistent   \n",
       "1   may         mon       149         1    999         0  nonexistent   \n",
       "2   may         mon       226         1    999         0  nonexistent   \n",
       "3   may         mon       151         1    999         0  nonexistent   \n",
       "4   may         mon       307         1    999         0  nonexistent   \n",
       "\n",
       "   emp.var.rate  cons.price.idx  cons.conf.idx  euribor3m  nr.employed   y  \n",
       "0           1.1          93.994          -36.4      4.857       5191.0  no  \n",
       "1           1.1          93.994          -36.4      4.857       5191.0  no  \n",
       "2           1.1          93.994          -36.4      4.857       5191.0  no  \n",
       "3           1.1          93.994          -36.4      4.857       5191.0  no  \n",
       "4           1.1          93.994          -36.4      4.857       5191.0  no  "
      ]
     },
     "execution_count": 2,
     "metadata": {},
     "output_type": "execute_result"
    }
   ],
   "source": [
    "df = pd.read_csv(\"bank-additional-full.csv\",sep=\";\")\n",
    "pd.set_option('display.max_columns',None)\n",
    "df.head()"
   ]
  },
  {
   "cell_type": "markdown",
   "id": "6a32d38c",
   "metadata": {},
   "source": [
    "# Domain Analysis"
   ]
  },
  {
   "cell_type": "markdown",
   "id": "ecd163fd",
   "metadata": {},
   "source": [
    "AGE: The length of time that a person has lived or a thing has existed.\n",
    "\n",
    "JOB: A task or piece of work, especially one that is paid.\n",
    "\n",
    "MARITAL: Relating to marriage or the relationship of a married couple are not.\n",
    "\n",
    "EDUCATION: The process of receiving or giving systematic instruction, especially at a school or university.\n",
    "\n",
    "DEFULT: Failure to fulfill an obligation, especially to repay a loan or appear in a court of law.\n",
    "\n",
    "HOUSING: The person having house loan are not.\n",
    "\n",
    "LOAN: A bank loan is an arrangement in which a bank gives you money that you repay with interest.The person having loan are not. \n",
    "\n",
    "CONTACT: Its a one type of communication medium to connect with the person with cellular or telephone.\n",
    "\n",
    "MONTH: When they last contact month of year.\n",
    "\n",
    "DAY OF WEEK: When they last contact day of the week.\n",
    "\n",
    "DURATION: The time during which something continues. by means when they last contact and how much time they spend in call duration, in seconds (numeric).\n",
    "\n",
    "CAMPAIGN: Its a series of coordinated activities, such as public speaking and demonstrating, designed to achieve a social, political, or commercial goal. Number of contacts performed during this campaign and for this client.\n",
    "\n",
    "PDAYS: Number of days that passed by after the client was last contacted from a previous campaign (numeric; 999 means client was not previously contacted).\n",
    "\n",
    "PREVIOUS: Number of contacts performed before this campaign and for this client (numeric).\n",
    "\n",
    "POUTCOME: Outcome of the previous marketing campaign. by means the client is accepted or not accepted or nonexistent.\n",
    "\n",
    "EMP.VAR.RATE(Employment variation rate): The labor rate variance measures the difference between the actual and expected cost of labor. quarterly indicator (numeric).\n",
    "\n",
    "CONS.PRICE.IDX(consumer price index): an index of the variation in prices paid by typical consumers for retail goods and other items. monthly indicator (numeric).\n",
    "\n",
    "CONS.CONF.IDX(consumer confidence index):  Consumer confidence, measured by the Consumer Confidence Index (CCI), is defined as the degree of optimism about the state of the economy that consumers (like you and me) are expressing through their activities of saving and spending.- monthly indicator (numeric).\n",
    "\n",
    "EURIBOR3M(euribor 3 month rate): Euribor 3 Months means a rate equal to the Floating Rate.\n",
    "\n",
    "NR.EMPLOYED(number of employees): Number of Employees means the number of employees engaged at the place of business each regular working day during the preceding calendar year.\n",
    "\n",
    "Y(YES/NO): has the client subscribed a term deposit? or not."
   ]
  },
  {
   "cell_type": "markdown",
   "id": "b384e48b",
   "metadata": {},
   "source": [
    "# Basic Checks"
   ]
  },
  {
   "cell_type": "code",
   "execution_count": 3,
   "id": "1218f4a2",
   "metadata": {},
   "outputs": [
    {
     "name": "stdout",
     "output_type": "stream",
     "text": [
      "In this dataset we have 41188 rows and 21 columns\n"
     ]
    }
   ],
   "source": [
    "rows = df.shape[0]\n",
    "cols = df.shape[1]\n",
    "\n",
    "print(f'In this dataset we have {rows} rows and {cols} columns')"
   ]
  },
  {
   "cell_type": "code",
   "execution_count": 4,
   "id": "3a12e4d8",
   "metadata": {},
   "outputs": [
    {
     "name": "stdout",
     "output_type": "stream",
     "text": [
      "<class 'pandas.core.frame.DataFrame'>\n",
      "RangeIndex: 41188 entries, 0 to 41187\n",
      "Data columns (total 21 columns):\n",
      " #   Column          Non-Null Count  Dtype  \n",
      "---  ------          --------------  -----  \n",
      " 0   age             41188 non-null  int64  \n",
      " 1   job             41188 non-null  object \n",
      " 2   marital         41188 non-null  object \n",
      " 3   education       41188 non-null  object \n",
      " 4   default         41188 non-null  object \n",
      " 5   housing         41188 non-null  object \n",
      " 6   loan            41188 non-null  object \n",
      " 7   contact         41188 non-null  object \n",
      " 8   month           41188 non-null  object \n",
      " 9   day_of_week     41188 non-null  object \n",
      " 10  duration        41188 non-null  int64  \n",
      " 11  campaign        41188 non-null  int64  \n",
      " 12  pdays           41188 non-null  int64  \n",
      " 13  previous        41188 non-null  int64  \n",
      " 14  poutcome        41188 non-null  object \n",
      " 15  emp.var.rate    41188 non-null  float64\n",
      " 16  cons.price.idx  41188 non-null  float64\n",
      " 17  cons.conf.idx   41188 non-null  float64\n",
      " 18  euribor3m       41188 non-null  float64\n",
      " 19  nr.employed     41188 non-null  float64\n",
      " 20  y               41188 non-null  object \n",
      "dtypes: float64(5), int64(5), object(11)\n",
      "memory usage: 6.6+ MB\n"
     ]
    }
   ],
   "source": [
    "df.info()"
   ]
  },
  {
   "cell_type": "code",
   "execution_count": 5,
   "id": "17218949",
   "metadata": {},
   "outputs": [
    {
     "name": "stdout",
     "output_type": "stream",
     "text": [
      "In the dataset there are 11 categorical columns\n",
      "In the dataset there are 10 numerical columns\n"
     ]
    }
   ],
   "source": [
    "print(f\"In the dataset there are {len(df.select_dtypes('O').columns)} categorical columns\")\n",
    "print(f\"In the dataset there are {len(df.select_dtypes('number').columns)} numerical columns\")"
   ]
  },
  {
   "cell_type": "code",
   "execution_count": 6,
   "id": "2609d8ec",
   "metadata": {},
   "outputs": [
    {
     "data": {
      "text/html": [
       "<div>\n",
       "<style scoped>\n",
       "    .dataframe tbody tr th:only-of-type {\n",
       "        vertical-align: middle;\n",
       "    }\n",
       "\n",
       "    .dataframe tbody tr th {\n",
       "        vertical-align: top;\n",
       "    }\n",
       "\n",
       "    .dataframe thead th {\n",
       "        text-align: right;\n",
       "    }\n",
       "</style>\n",
       "<table border=\"1\" class=\"dataframe\">\n",
       "  <thead>\n",
       "    <tr style=\"text-align: right;\">\n",
       "      <th></th>\n",
       "      <th>age</th>\n",
       "      <th>duration</th>\n",
       "      <th>campaign</th>\n",
       "      <th>pdays</th>\n",
       "      <th>previous</th>\n",
       "      <th>emp.var.rate</th>\n",
       "      <th>cons.price.idx</th>\n",
       "      <th>cons.conf.idx</th>\n",
       "      <th>euribor3m</th>\n",
       "      <th>nr.employed</th>\n",
       "    </tr>\n",
       "  </thead>\n",
       "  <tbody>\n",
       "    <tr>\n",
       "      <th>count</th>\n",
       "      <td>41188.00000</td>\n",
       "      <td>41188.000000</td>\n",
       "      <td>41188.000000</td>\n",
       "      <td>41188.000000</td>\n",
       "      <td>41188.000000</td>\n",
       "      <td>41188.000000</td>\n",
       "      <td>41188.000000</td>\n",
       "      <td>41188.000000</td>\n",
       "      <td>41188.000000</td>\n",
       "      <td>41188.000000</td>\n",
       "    </tr>\n",
       "    <tr>\n",
       "      <th>mean</th>\n",
       "      <td>40.02406</td>\n",
       "      <td>258.285010</td>\n",
       "      <td>2.567593</td>\n",
       "      <td>962.475454</td>\n",
       "      <td>0.172963</td>\n",
       "      <td>0.081886</td>\n",
       "      <td>93.575664</td>\n",
       "      <td>-40.502600</td>\n",
       "      <td>3.621291</td>\n",
       "      <td>5167.035911</td>\n",
       "    </tr>\n",
       "    <tr>\n",
       "      <th>std</th>\n",
       "      <td>10.42125</td>\n",
       "      <td>259.279249</td>\n",
       "      <td>2.770014</td>\n",
       "      <td>186.910907</td>\n",
       "      <td>0.494901</td>\n",
       "      <td>1.570960</td>\n",
       "      <td>0.578840</td>\n",
       "      <td>4.628198</td>\n",
       "      <td>1.734447</td>\n",
       "      <td>72.251528</td>\n",
       "    </tr>\n",
       "    <tr>\n",
       "      <th>min</th>\n",
       "      <td>17.00000</td>\n",
       "      <td>0.000000</td>\n",
       "      <td>1.000000</td>\n",
       "      <td>0.000000</td>\n",
       "      <td>0.000000</td>\n",
       "      <td>-3.400000</td>\n",
       "      <td>92.201000</td>\n",
       "      <td>-50.800000</td>\n",
       "      <td>0.634000</td>\n",
       "      <td>4963.600000</td>\n",
       "    </tr>\n",
       "    <tr>\n",
       "      <th>25%</th>\n",
       "      <td>32.00000</td>\n",
       "      <td>102.000000</td>\n",
       "      <td>1.000000</td>\n",
       "      <td>999.000000</td>\n",
       "      <td>0.000000</td>\n",
       "      <td>-1.800000</td>\n",
       "      <td>93.075000</td>\n",
       "      <td>-42.700000</td>\n",
       "      <td>1.344000</td>\n",
       "      <td>5099.100000</td>\n",
       "    </tr>\n",
       "    <tr>\n",
       "      <th>50%</th>\n",
       "      <td>38.00000</td>\n",
       "      <td>180.000000</td>\n",
       "      <td>2.000000</td>\n",
       "      <td>999.000000</td>\n",
       "      <td>0.000000</td>\n",
       "      <td>1.100000</td>\n",
       "      <td>93.749000</td>\n",
       "      <td>-41.800000</td>\n",
       "      <td>4.857000</td>\n",
       "      <td>5191.000000</td>\n",
       "    </tr>\n",
       "    <tr>\n",
       "      <th>75%</th>\n",
       "      <td>47.00000</td>\n",
       "      <td>319.000000</td>\n",
       "      <td>3.000000</td>\n",
       "      <td>999.000000</td>\n",
       "      <td>0.000000</td>\n",
       "      <td>1.400000</td>\n",
       "      <td>93.994000</td>\n",
       "      <td>-36.400000</td>\n",
       "      <td>4.961000</td>\n",
       "      <td>5228.100000</td>\n",
       "    </tr>\n",
       "    <tr>\n",
       "      <th>max</th>\n",
       "      <td>98.00000</td>\n",
       "      <td>4918.000000</td>\n",
       "      <td>56.000000</td>\n",
       "      <td>999.000000</td>\n",
       "      <td>7.000000</td>\n",
       "      <td>1.400000</td>\n",
       "      <td>94.767000</td>\n",
       "      <td>-26.900000</td>\n",
       "      <td>5.045000</td>\n",
       "      <td>5228.100000</td>\n",
       "    </tr>\n",
       "  </tbody>\n",
       "</table>\n",
       "</div>"
      ],
      "text/plain": [
       "               age      duration      campaign         pdays      previous  \\\n",
       "count  41188.00000  41188.000000  41188.000000  41188.000000  41188.000000   \n",
       "mean      40.02406    258.285010      2.567593    962.475454      0.172963   \n",
       "std       10.42125    259.279249      2.770014    186.910907      0.494901   \n",
       "min       17.00000      0.000000      1.000000      0.000000      0.000000   \n",
       "25%       32.00000    102.000000      1.000000    999.000000      0.000000   \n",
       "50%       38.00000    180.000000      2.000000    999.000000      0.000000   \n",
       "75%       47.00000    319.000000      3.000000    999.000000      0.000000   \n",
       "max       98.00000   4918.000000     56.000000    999.000000      7.000000   \n",
       "\n",
       "       emp.var.rate  cons.price.idx  cons.conf.idx     euribor3m   nr.employed  \n",
       "count  41188.000000    41188.000000   41188.000000  41188.000000  41188.000000  \n",
       "mean       0.081886       93.575664     -40.502600      3.621291   5167.035911  \n",
       "std        1.570960        0.578840       4.628198      1.734447     72.251528  \n",
       "min       -3.400000       92.201000     -50.800000      0.634000   4963.600000  \n",
       "25%       -1.800000       93.075000     -42.700000      1.344000   5099.100000  \n",
       "50%        1.100000       93.749000     -41.800000      4.857000   5191.000000  \n",
       "75%        1.400000       93.994000     -36.400000      4.961000   5228.100000  \n",
       "max        1.400000       94.767000     -26.900000      5.045000   5228.100000  "
      ]
     },
     "execution_count": 6,
     "metadata": {},
     "output_type": "execute_result"
    }
   ],
   "source": [
    "df.describe()"
   ]
  },
  {
   "cell_type": "code",
   "execution_count": 7,
   "id": "deb7cb15",
   "metadata": {},
   "outputs": [
    {
     "data": {
      "text/html": [
       "<div>\n",
       "<style scoped>\n",
       "    .dataframe tbody tr th:only-of-type {\n",
       "        vertical-align: middle;\n",
       "    }\n",
       "\n",
       "    .dataframe tbody tr th {\n",
       "        vertical-align: top;\n",
       "    }\n",
       "\n",
       "    .dataframe thead th {\n",
       "        text-align: right;\n",
       "    }\n",
       "</style>\n",
       "<table border=\"1\" class=\"dataframe\">\n",
       "  <thead>\n",
       "    <tr style=\"text-align: right;\">\n",
       "      <th></th>\n",
       "      <th>job</th>\n",
       "      <th>marital</th>\n",
       "      <th>education</th>\n",
       "      <th>default</th>\n",
       "      <th>housing</th>\n",
       "      <th>loan</th>\n",
       "      <th>contact</th>\n",
       "      <th>month</th>\n",
       "      <th>day_of_week</th>\n",
       "      <th>poutcome</th>\n",
       "      <th>y</th>\n",
       "    </tr>\n",
       "  </thead>\n",
       "  <tbody>\n",
       "    <tr>\n",
       "      <th>count</th>\n",
       "      <td>41188</td>\n",
       "      <td>41188</td>\n",
       "      <td>41188</td>\n",
       "      <td>41188</td>\n",
       "      <td>41188</td>\n",
       "      <td>41188</td>\n",
       "      <td>41188</td>\n",
       "      <td>41188</td>\n",
       "      <td>41188</td>\n",
       "      <td>41188</td>\n",
       "      <td>41188</td>\n",
       "    </tr>\n",
       "    <tr>\n",
       "      <th>unique</th>\n",
       "      <td>12</td>\n",
       "      <td>4</td>\n",
       "      <td>8</td>\n",
       "      <td>3</td>\n",
       "      <td>3</td>\n",
       "      <td>3</td>\n",
       "      <td>2</td>\n",
       "      <td>10</td>\n",
       "      <td>5</td>\n",
       "      <td>3</td>\n",
       "      <td>2</td>\n",
       "    </tr>\n",
       "    <tr>\n",
       "      <th>top</th>\n",
       "      <td>admin.</td>\n",
       "      <td>married</td>\n",
       "      <td>university.degree</td>\n",
       "      <td>no</td>\n",
       "      <td>yes</td>\n",
       "      <td>no</td>\n",
       "      <td>cellular</td>\n",
       "      <td>may</td>\n",
       "      <td>thu</td>\n",
       "      <td>nonexistent</td>\n",
       "      <td>no</td>\n",
       "    </tr>\n",
       "    <tr>\n",
       "      <th>freq</th>\n",
       "      <td>10422</td>\n",
       "      <td>24928</td>\n",
       "      <td>12168</td>\n",
       "      <td>32588</td>\n",
       "      <td>21576</td>\n",
       "      <td>33950</td>\n",
       "      <td>26144</td>\n",
       "      <td>13769</td>\n",
       "      <td>8623</td>\n",
       "      <td>35563</td>\n",
       "      <td>36548</td>\n",
       "    </tr>\n",
       "  </tbody>\n",
       "</table>\n",
       "</div>"
      ],
      "text/plain": [
       "           job  marital          education default housing   loan   contact  \\\n",
       "count    41188    41188              41188   41188   41188  41188     41188   \n",
       "unique      12        4                  8       3       3      3         2   \n",
       "top     admin.  married  university.degree      no     yes     no  cellular   \n",
       "freq     10422    24928              12168   32588   21576  33950     26144   \n",
       "\n",
       "        month day_of_week     poutcome      y  \n",
       "count   41188       41188        41188  41188  \n",
       "unique     10           5            3      2  \n",
       "top       may         thu  nonexistent     no  \n",
       "freq    13769        8623        35563  36548  "
      ]
     },
     "execution_count": 7,
     "metadata": {},
     "output_type": "execute_result"
    }
   ],
   "source": [
    "df.describe(include = 'O')"
   ]
  },
  {
   "cell_type": "markdown",
   "id": "0a03ff36",
   "metadata": {},
   "source": [
    "# Exploratory Data Analysis"
   ]
  },
  {
   "cell_type": "markdown",
   "id": "530cea36",
   "metadata": {},
   "source": [
    "## Univariant Analysis"
   ]
  },
  {
   "cell_type": "markdown",
   "id": "77381452",
   "metadata": {},
   "source": [
    "At first we will split our dataset into two with one containing only numerical features and the other containing all the categorical features"
   ]
  },
  {
   "cell_type": "code",
   "execution_count": 8,
   "id": "b35e1fca",
   "metadata": {},
   "outputs": [],
   "source": [
    "cat_df = df.select_dtypes('O')\n",
    "num_df = df.select_dtypes('number')"
   ]
  },
  {
   "cell_type": "markdown",
   "id": "47c0e28b",
   "metadata": {},
   "source": [
    "### Visualizing the numerical columns"
   ]
  },
  {
   "cell_type": "markdown",
   "id": "957ae161",
   "metadata": {},
   "source": [
    "Lets visualize our numerical dataset with histogram with kde curve to view the distribution of data of our numerical features"
   ]
  },
  {
   "cell_type": "code",
   "execution_count": 9,
   "id": "4e82ec87",
   "metadata": {},
   "outputs": [
    {
     "data": {
      "text/html": [
       "<div>\n",
       "<style scoped>\n",
       "    .dataframe tbody tr th:only-of-type {\n",
       "        vertical-align: middle;\n",
       "    }\n",
       "\n",
       "    .dataframe tbody tr th {\n",
       "        vertical-align: top;\n",
       "    }\n",
       "\n",
       "    .dataframe thead th {\n",
       "        text-align: right;\n",
       "    }\n",
       "</style>\n",
       "<table border=\"1\" class=\"dataframe\">\n",
       "  <thead>\n",
       "    <tr style=\"text-align: right;\">\n",
       "      <th></th>\n",
       "      <th>age</th>\n",
       "      <th>duration</th>\n",
       "      <th>campaign</th>\n",
       "      <th>pdays</th>\n",
       "      <th>previous</th>\n",
       "      <th>emp.var.rate</th>\n",
       "      <th>cons.price.idx</th>\n",
       "      <th>cons.conf.idx</th>\n",
       "      <th>euribor3m</th>\n",
       "      <th>nr.employed</th>\n",
       "    </tr>\n",
       "  </thead>\n",
       "  <tbody>\n",
       "    <tr>\n",
       "      <th>0</th>\n",
       "      <td>56</td>\n",
       "      <td>261</td>\n",
       "      <td>1</td>\n",
       "      <td>999</td>\n",
       "      <td>0</td>\n",
       "      <td>1.1</td>\n",
       "      <td>93.994</td>\n",
       "      <td>-36.4</td>\n",
       "      <td>4.857</td>\n",
       "      <td>5191.0</td>\n",
       "    </tr>\n",
       "    <tr>\n",
       "      <th>1</th>\n",
       "      <td>57</td>\n",
       "      <td>149</td>\n",
       "      <td>1</td>\n",
       "      <td>999</td>\n",
       "      <td>0</td>\n",
       "      <td>1.1</td>\n",
       "      <td>93.994</td>\n",
       "      <td>-36.4</td>\n",
       "      <td>4.857</td>\n",
       "      <td>5191.0</td>\n",
       "    </tr>\n",
       "    <tr>\n",
       "      <th>2</th>\n",
       "      <td>37</td>\n",
       "      <td>226</td>\n",
       "      <td>1</td>\n",
       "      <td>999</td>\n",
       "      <td>0</td>\n",
       "      <td>1.1</td>\n",
       "      <td>93.994</td>\n",
       "      <td>-36.4</td>\n",
       "      <td>4.857</td>\n",
       "      <td>5191.0</td>\n",
       "    </tr>\n",
       "    <tr>\n",
       "      <th>3</th>\n",
       "      <td>40</td>\n",
       "      <td>151</td>\n",
       "      <td>1</td>\n",
       "      <td>999</td>\n",
       "      <td>0</td>\n",
       "      <td>1.1</td>\n",
       "      <td>93.994</td>\n",
       "      <td>-36.4</td>\n",
       "      <td>4.857</td>\n",
       "      <td>5191.0</td>\n",
       "    </tr>\n",
       "    <tr>\n",
       "      <th>4</th>\n",
       "      <td>56</td>\n",
       "      <td>307</td>\n",
       "      <td>1</td>\n",
       "      <td>999</td>\n",
       "      <td>0</td>\n",
       "      <td>1.1</td>\n",
       "      <td>93.994</td>\n",
       "      <td>-36.4</td>\n",
       "      <td>4.857</td>\n",
       "      <td>5191.0</td>\n",
       "    </tr>\n",
       "  </tbody>\n",
       "</table>\n",
       "</div>"
      ],
      "text/plain": [
       "   age  duration  campaign  pdays  previous  emp.var.rate  cons.price.idx  \\\n",
       "0   56       261         1    999         0           1.1          93.994   \n",
       "1   57       149         1    999         0           1.1          93.994   \n",
       "2   37       226         1    999         0           1.1          93.994   \n",
       "3   40       151         1    999         0           1.1          93.994   \n",
       "4   56       307         1    999         0           1.1          93.994   \n",
       "\n",
       "   cons.conf.idx  euribor3m  nr.employed  \n",
       "0          -36.4      4.857       5191.0  \n",
       "1          -36.4      4.857       5191.0  \n",
       "2          -36.4      4.857       5191.0  \n",
       "3          -36.4      4.857       5191.0  \n",
       "4          -36.4      4.857       5191.0  "
      ]
     },
     "execution_count": 9,
     "metadata": {},
     "output_type": "execute_result"
    }
   ],
   "source": [
    "num_df.head()"
   ]
  },
  {
   "cell_type": "markdown",
   "id": "00c551d9",
   "metadata": {},
   "source": [
    "#### Visualizing the distribution of ages of customers in our dataset"
   ]
  },
  {
   "cell_type": "code",
   "execution_count": 10,
   "id": "579a7f9e",
   "metadata": {},
   "outputs": [
    {
     "data": {
      "image/png": "[encoded data removed]",
      "text/plain": [
       "<Figure size 648x432 with 1 Axes>"
      ]
     },
     "metadata": {
      "needs_background": "light"
     },
     "output_type": "display_data"
    }
   ],
   "source": [
    "plt.figure(figsize = (9,6))\n",
    "sns.histplot(num_df['age'],bins =50,kde =True);"
   ]
  },
  {
   "cell_type": "markdown",
   "id": "f4409d98",
   "metadata": {},
   "source": [
    "**Our Insights:**\n",
    "\n",
    "Here we see that in our dataset, most customers are of 30-40 years of age.\n",
    "\n",
    "There are some customers who are more that 90 years of age.\n",
    "\n",
    "The distribution is heavily skewed to the right\n"
   ]
  },
  {
   "cell_type": "markdown",
   "id": "28e1f427",
   "metadata": {},
   "source": [
    "#### Visualizing the distribution of duration of marketing call to customers in our dataset"
   ]
  },
  {
   "cell_type": "code",
   "execution_count": 11,
   "id": "75255218",
   "metadata": {},
   "outputs": [
    {
     "data": {
      "image/png": "[encoded data removed]",
      "text/plain": [
       "<Figure size 648x432 with 1 Axes>"
      ]
     },
     "metadata": {
      "needs_background": "light"
     },
     "output_type": "display_data"
    }
   ],
   "source": [
    "plt.figure(figsize = (9,6))\n",
    "sns.histplot(num_df[\"duration\"] / 60,bins =30,kde =True);"
   ]
  },
  {
   "cell_type": "markdown",
   "id": "a4058cc5",
   "metadata": {},
   "source": [
    "**Our Insights:**\n",
    "\n",
    "In our Bank marketing dataset most of the customers call lasted from 0 to 5 mins\n",
    "\n",
    "There are some calls that lasted way more than regular calls\n",
    "\n",
    "There are extreme outliers that has to be taken care of later\n",
    "\n",
    "The distribution is heavily skewed towards the right\n"
   ]
  },
  {
   "cell_type": "markdown",
   "id": "21f949a6",
   "metadata": {},
   "source": [
    "#### Visualizing the distribution of number of days that passed by after the client was last contacted from a previous campaign in our dataset"
   ]
  },
  {
   "cell_type": "code",
   "execution_count": 12,
   "id": "aa6fff25",
   "metadata": {},
   "outputs": [
    {
     "data": {
      "image/png": "[encoded data removed]",
      "text/plain": [
       "<Figure size 648x432 with 1 Axes>"
      ]
     },
     "metadata": {
      "needs_background": "light"
     },
     "output_type": "display_data"
    }
   ],
   "source": [
    "plt.figure(figsize = (9,6))\n",
    "sns.histplot(num_df[num_df[\"pdays\"]<999]['pdays'],bins = 15);"
   ]
  },
  {
   "cell_type": "markdown",
   "id": "bbec4335",
   "metadata": {},
   "source": [
    "**Our Insights:**\n",
    "\n",
    "Most of the customers in our dataset were not contacted by the marketing team. Here we have dropped these rows to better visualize the days past by after a customer was contacted.\n",
    "\n",
    "Here we see a right skewed distribution where most of the customers who were contacted the days passed were from between 3 - 7 days."
   ]
  },
  {
   "cell_type": "markdown",
   "id": "fb20c620",
   "metadata": {},
   "source": [
    "#### Visualizing the distribution of number of contacts performed during this campaign and for this client of our dataset"
   ]
  },
  {
   "cell_type": "code",
   "execution_count": 13,
   "id": "45697ad3",
   "metadata": {},
   "outputs": [
    {
     "data": {
      "image/png": "[encoded data removed]",
      "text/plain": [
       "<Figure size 648x432 with 1 Axes>"
      ]
     },
     "metadata": {
      "needs_background": "light"
     },
     "output_type": "display_data"
    }
   ],
   "source": [
    "plt.figure(figsize = (9,6))\n",
    "sns.histplot(num_df['campaign'],bins = 10);"
   ]
  },
  {
   "cell_type": "markdown",
   "id": "eaea39ae",
   "metadata": {},
   "source": [
    "**Our Insights:**\n",
    "\n",
    "Here we see the right skewed distribution of number of contacts performed during this campaign and for this client. Here most of the customers were contacted 1- 8 days"
   ]
  },
  {
   "cell_type": "markdown",
   "id": "58f83110",
   "metadata": {},
   "source": [
    "#### Visualizing the distribution of other numerical features of our dataset"
   ]
  },
  {
   "cell_type": "code",
   "execution_count": 14,
   "id": "0706120a",
   "metadata": {},
   "outputs": [
    {
     "data": {
      "image/png": "[encoded data removed]",
      "text/plain": [
       "<Figure size 1080x720 with 6 Axes>"
      ]
     },
     "metadata": {
      "needs_background": "light"
     },
     "output_type": "display_data"
    }
   ],
   "source": [
    "cols = num_df.columns[4:].to_list()\n",
    "\n",
    "# create a new dataframe with only the selected columns\n",
    "df_selected = df[cols]\n",
    "\n",
    "# create subplots with matplotlib\n",
    "fig, axs = plt.subplots(nrows=3, ncols=2, figsize=(15, 10))\n",
    "axs = axs.flatten()\n",
    "\n",
    "# plot histograms for each column\n",
    "for i, col in enumerate(df_selected.columns):\n",
    "    sns.histplot(data=df_selected, x=col,bins = 25, ax=axs[i])\n",
    "    axs[i].set_xlabel(col)\n",
    "    \n",
    "\n",
    "plt.tight_layout()\n",
    "plt.show()"
   ]
  },
  {
   "cell_type": "markdown",
   "id": "354dcd58",
   "metadata": {},
   "source": [
    "**Our Insights:**\n",
    "\n",
    "1) previous: The distribution of number of contacts performed before this campaign and for this client shows that previosly most customers were not contacted\n",
    "\n",
    "2) emp.var.rate: The distribution of employment variation rate - quarterly indicator feature shows most of the values are positive in a left skewed distribution.\n",
    "\n",
    "3) euribor3m : The distribution is relatively skewed to the left. Other features are also more or less skewed "
   ]
  },
  {
   "cell_type": "markdown",
   "id": "1b1a6658",
   "metadata": {},
   "source": [
    "### Visualizing the categorical columns"
   ]
  },
  {
   "cell_type": "code",
   "execution_count": 15,
   "id": "c6535472",
   "metadata": {},
   "outputs": [
    {
     "data": {
      "text/html": [
       "<div>\n",
       "<style scoped>\n",
       "    .dataframe tbody tr th:only-of-type {\n",
       "        vertical-align: middle;\n",
       "    }\n",
       "\n",
       "    .dataframe tbody tr th {\n",
       "        vertical-align: top;\n",
       "    }\n",
       "\n",
       "    .dataframe thead th {\n",
       "        text-align: right;\n",
       "    }\n",
       "</style>\n",
       "<table border=\"1\" class=\"dataframe\">\n",
       "  <thead>\n",
       "    <tr style=\"text-align: right;\">\n",
       "      <th></th>\n",
       "      <th>job</th>\n",
       "      <th>marital</th>\n",
       "      <th>education</th>\n",
       "      <th>default</th>\n",
       "      <th>housing</th>\n",
       "      <th>loan</th>\n",
       "      <th>contact</th>\n",
       "      <th>month</th>\n",
       "      <th>day_of_week</th>\n",
       "      <th>poutcome</th>\n",
       "      <th>y</th>\n",
       "    </tr>\n",
       "  </thead>\n",
       "  <tbody>\n",
       "    <tr>\n",
       "      <th>0</th>\n",
       "      <td>housemaid</td>\n",
       "      <td>married</td>\n",
       "      <td>basic.4y</td>\n",
       "      <td>no</td>\n",
       "      <td>no</td>\n",
       "      <td>no</td>\n",
       "      <td>telephone</td>\n",
       "      <td>may</td>\n",
       "      <td>mon</td>\n",
       "      <td>nonexistent</td>\n",
       "      <td>no</td>\n",
       "    </tr>\n",
       "    <tr>\n",
       "      <th>1</th>\n",
       "      <td>services</td>\n",
       "      <td>married</td>\n",
       "      <td>high.school</td>\n",
       "      <td>unknown</td>\n",
       "      <td>no</td>\n",
       "      <td>no</td>\n",
       "      <td>telephone</td>\n",
       "      <td>may</td>\n",
       "      <td>mon</td>\n",
       "      <td>nonexistent</td>\n",
       "      <td>no</td>\n",
       "    </tr>\n",
       "    <tr>\n",
       "      <th>2</th>\n",
       "      <td>services</td>\n",
       "      <td>married</td>\n",
       "      <td>high.school</td>\n",
       "      <td>no</td>\n",
       "      <td>yes</td>\n",
       "      <td>no</td>\n",
       "      <td>telephone</td>\n",
       "      <td>may</td>\n",
       "      <td>mon</td>\n",
       "      <td>nonexistent</td>\n",
       "      <td>no</td>\n",
       "    </tr>\n",
       "    <tr>\n",
       "      <th>3</th>\n",
       "      <td>admin.</td>\n",
       "      <td>married</td>\n",
       "      <td>basic.6y</td>\n",
       "      <td>no</td>\n",
       "      <td>no</td>\n",
       "      <td>no</td>\n",
       "      <td>telephone</td>\n",
       "      <td>may</td>\n",
       "      <td>mon</td>\n",
       "      <td>nonexistent</td>\n",
       "      <td>no</td>\n",
       "    </tr>\n",
       "    <tr>\n",
       "      <th>4</th>\n",
       "      <td>services</td>\n",
       "      <td>married</td>\n",
       "      <td>high.school</td>\n",
       "      <td>no</td>\n",
       "      <td>no</td>\n",
       "      <td>yes</td>\n",
       "      <td>telephone</td>\n",
       "      <td>may</td>\n",
       "      <td>mon</td>\n",
       "      <td>nonexistent</td>\n",
       "      <td>no</td>\n",
       "    </tr>\n",
       "  </tbody>\n",
       "</table>\n",
       "</div>"
      ],
      "text/plain": [
       "         job  marital    education  default housing loan    contact month  \\\n",
       "0  housemaid  married     basic.4y       no      no   no  telephone   may   \n",
       "1   services  married  high.school  unknown      no   no  telephone   may   \n",
       "2   services  married  high.school       no     yes   no  telephone   may   \n",
       "3     admin.  married     basic.6y       no      no   no  telephone   may   \n",
       "4   services  married  high.school       no      no  yes  telephone   may   \n",
       "\n",
       "  day_of_week     poutcome   y  \n",
       "0         mon  nonexistent  no  \n",
       "1         mon  nonexistent  no  \n",
       "2         mon  nonexistent  no  \n",
       "3         mon  nonexistent  no  \n",
       "4         mon  nonexistent  no  "
      ]
     },
     "execution_count": 15,
     "metadata": {},
     "output_type": "execute_result"
    }
   ],
   "source": [
    "cat_df.head()"
   ]
  },
  {
   "cell_type": "code",
   "execution_count": 16,
   "id": "1ed49397",
   "metadata": {},
   "outputs": [
    {
     "data": {
      "image/png": "[encoded data removed]",
      "text/plain": [
       "<Figure size 1440x1440 with 10 Axes>"
      ]
     },
     "metadata": {
      "needs_background": "light"
     },
     "output_type": "display_data"
    }
   ],
   "source": [
    "cols = cat_df.columns[1:].to_list()\n",
    "df_selected = cat_df[cols]\n",
    "\n",
    "# create subplots with matplotlib\n",
    "fig, axs = plt.subplots(nrows=5, ncols=2, figsize=(20, 20))\n",
    "axs = axs.flatten()\n",
    "\n",
    "# plot countplot for each feature\n",
    "for i, col in enumerate(df_selected.columns):\n",
    "    sns.countplot(data=df_selected, x=col, ax=axs[i])\n",
    "    axs[i].set_xlabel(col)\n",
    "\n",
    "plt.tight_layout()\n",
    "plt.show()"
   ]
  },
  {
   "cell_type": "markdown",
   "id": "5ce09c4b",
   "metadata": {},
   "source": [
    "**Our Insights:**"
   ]
  },
  {
   "cell_type": "markdown",
   "id": "69f2d201",
   "metadata": {},
   "source": [
    "1) We see that married customers who has a university degree education with no default on loans are relatively more in our dataset.\n",
    "\n",
    "2) Most of the customers are being contacted via cellphone and most customers do not have a loan and in month of May customer engagement were the highest\n",
    "\n",
    "3) Here we also notice that we have a highly imbalanced dataset"
   ]
  },
  {
   "cell_type": "markdown",
   "id": "38bdbc37",
   "metadata": {},
   "source": [
    "## Bivariate Analysis"
   ]
  },
  {
   "cell_type": "markdown",
   "id": "20f7472b",
   "metadata": {},
   "source": [
    "### Bivariate analysis of all the categorical columns with respect to whether person will take the term deposit or not:"
   ]
  },
  {
   "cell_type": "code",
   "execution_count": 17,
   "id": "aff00ae0",
   "metadata": {},
   "outputs": [
    {
     "data": {
      "text/html": [
       "<div>\n",
       "<style scoped>\n",
       "    .dataframe tbody tr th:only-of-type {\n",
       "        vertical-align: middle;\n",
       "    }\n",
       "\n",
       "    .dataframe tbody tr th {\n",
       "        vertical-align: top;\n",
       "    }\n",
       "\n",
       "    .dataframe thead th {\n",
       "        text-align: right;\n",
       "    }\n",
       "</style>\n",
       "<table border=\"1\" class=\"dataframe\">\n",
       "  <thead>\n",
       "    <tr style=\"text-align: right;\">\n",
       "      <th></th>\n",
       "      <th>age</th>\n",
       "      <th>job</th>\n",
       "      <th>marital</th>\n",
       "      <th>education</th>\n",
       "      <th>default</th>\n",
       "      <th>housing</th>\n",
       "      <th>loan</th>\n",
       "      <th>contact</th>\n",
       "      <th>month</th>\n",
       "      <th>day_of_week</th>\n",
       "      <th>duration</th>\n",
       "      <th>campaign</th>\n",
       "      <th>pdays</th>\n",
       "      <th>previous</th>\n",
       "      <th>poutcome</th>\n",
       "      <th>emp.var.rate</th>\n",
       "      <th>cons.price.idx</th>\n",
       "      <th>cons.conf.idx</th>\n",
       "      <th>euribor3m</th>\n",
       "      <th>nr.employed</th>\n",
       "      <th>y</th>\n",
       "    </tr>\n",
       "  </thead>\n",
       "  <tbody>\n",
       "    <tr>\n",
       "      <th>0</th>\n",
       "      <td>56</td>\n",
       "      <td>housemaid</td>\n",
       "      <td>married</td>\n",
       "      <td>basic.4y</td>\n",
       "      <td>no</td>\n",
       "      <td>no</td>\n",
       "      <td>no</td>\n",
       "      <td>telephone</td>\n",
       "      <td>may</td>\n",
       "      <td>mon</td>\n",
       "      <td>261</td>\n",
       "      <td>1</td>\n",
       "      <td>999</td>\n",
       "      <td>0</td>\n",
       "      <td>nonexistent</td>\n",
       "      <td>1.1</td>\n",
       "      <td>93.994</td>\n",
       "      <td>-36.4</td>\n",
       "      <td>4.857</td>\n",
       "      <td>5191.0</td>\n",
       "      <td>no</td>\n",
       "    </tr>\n",
       "    <tr>\n",
       "      <th>1</th>\n",
       "      <td>57</td>\n",
       "      <td>services</td>\n",
       "      <td>married</td>\n",
       "      <td>high.school</td>\n",
       "      <td>unknown</td>\n",
       "      <td>no</td>\n",
       "      <td>no</td>\n",
       "      <td>telephone</td>\n",
       "      <td>may</td>\n",
       "      <td>mon</td>\n",
       "      <td>149</td>\n",
       "      <td>1</td>\n",
       "      <td>999</td>\n",
       "      <td>0</td>\n",
       "      <td>nonexistent</td>\n",
       "      <td>1.1</td>\n",
       "      <td>93.994</td>\n",
       "      <td>-36.4</td>\n",
       "      <td>4.857</td>\n",
       "      <td>5191.0</td>\n",
       "      <td>no</td>\n",
       "    </tr>\n",
       "    <tr>\n",
       "      <th>2</th>\n",
       "      <td>37</td>\n",
       "      <td>services</td>\n",
       "      <td>married</td>\n",
       "      <td>high.school</td>\n",
       "      <td>no</td>\n",
       "      <td>yes</td>\n",
       "      <td>no</td>\n",
       "      <td>telephone</td>\n",
       "      <td>may</td>\n",
       "      <td>mon</td>\n",
       "      <td>226</td>\n",
       "      <td>1</td>\n",
       "      <td>999</td>\n",
       "      <td>0</td>\n",
       "      <td>nonexistent</td>\n",
       "      <td>1.1</td>\n",
       "      <td>93.994</td>\n",
       "      <td>-36.4</td>\n",
       "      <td>4.857</td>\n",
       "      <td>5191.0</td>\n",
       "      <td>no</td>\n",
       "    </tr>\n",
       "    <tr>\n",
       "      <th>3</th>\n",
       "      <td>40</td>\n",
       "      <td>admin.</td>\n",
       "      <td>married</td>\n",
       "      <td>basic.6y</td>\n",
       "      <td>no</td>\n",
       "      <td>no</td>\n",
       "      <td>no</td>\n",
       "      <td>telephone</td>\n",
       "      <td>may</td>\n",
       "      <td>mon</td>\n",
       "      <td>151</td>\n",
       "      <td>1</td>\n",
       "      <td>999</td>\n",
       "      <td>0</td>\n",
       "      <td>nonexistent</td>\n",
       "      <td>1.1</td>\n",
       "      <td>93.994</td>\n",
       "      <td>-36.4</td>\n",
       "      <td>4.857</td>\n",
       "      <td>5191.0</td>\n",
       "      <td>no</td>\n",
       "    </tr>\n",
       "    <tr>\n",
       "      <th>4</th>\n",
       "      <td>56</td>\n",
       "      <td>services</td>\n",
       "      <td>married</td>\n",
       "      <td>high.school</td>\n",
       "      <td>no</td>\n",
       "      <td>no</td>\n",
       "      <td>yes</td>\n",
       "      <td>telephone</td>\n",
       "      <td>may</td>\n",
       "      <td>mon</td>\n",
       "      <td>307</td>\n",
       "      <td>1</td>\n",
       "      <td>999</td>\n",
       "      <td>0</td>\n",
       "      <td>nonexistent</td>\n",
       "      <td>1.1</td>\n",
       "      <td>93.994</td>\n",
       "      <td>-36.4</td>\n",
       "      <td>4.857</td>\n",
       "      <td>5191.0</td>\n",
       "      <td>no</td>\n",
       "    </tr>\n",
       "  </tbody>\n",
       "</table>\n",
       "</div>"
      ],
      "text/plain": [
       "   age        job  marital    education  default housing loan    contact  \\\n",
       "0   56  housemaid  married     basic.4y       no      no   no  telephone   \n",
       "1   57   services  married  high.school  unknown      no   no  telephone   \n",
       "2   37   services  married  high.school       no     yes   no  telephone   \n",
       "3   40     admin.  married     basic.6y       no      no   no  telephone   \n",
       "4   56   services  married  high.school       no      no  yes  telephone   \n",
       "\n",
       "  month day_of_week  duration  campaign  pdays  previous     poutcome  \\\n",
       "0   may         mon       261         1    999         0  nonexistent   \n",
       "1   may         mon       149         1    999         0  nonexistent   \n",
       "2   may         mon       226         1    999         0  nonexistent   \n",
       "3   may         mon       151         1    999         0  nonexistent   \n",
       "4   may         mon       307         1    999         0  nonexistent   \n",
       "\n",
       "   emp.var.rate  cons.price.idx  cons.conf.idx  euribor3m  nr.employed   y  \n",
       "0           1.1          93.994          -36.4      4.857       5191.0  no  \n",
       "1           1.1          93.994          -36.4      4.857       5191.0  no  \n",
       "2           1.1          93.994          -36.4      4.857       5191.0  no  \n",
       "3           1.1          93.994          -36.4      4.857       5191.0  no  \n",
       "4           1.1          93.994          -36.4      4.857       5191.0  no  "
      ]
     },
     "execution_count": 17,
     "metadata": {},
     "output_type": "execute_result"
    }
   ],
   "source": [
    "df.head()"
   ]
  },
  {
   "cell_type": "markdown",
   "id": "b18564e2",
   "metadata": {},
   "source": [
    "#### Visualizing which customer subscribed to the deposit based on their job"
   ]
  },
  {
   "cell_type": "code",
   "execution_count": 18,
   "id": "ccf49a7f",
   "metadata": {},
   "outputs": [
    {
     "data": {
      "image/png": "[encoded data removed]",
      "text/plain": [
       "<Figure size 1080x432 with 1 Axes>"
      ]
     },
     "metadata": {
      "needs_background": "light"
     },
     "output_type": "display_data"
    }
   ],
   "source": [
    "plt.figure(figsize=(15,6))\n",
    "\n",
    "sns.countplot(data=df,x = df['job'],hue = df['y']);"
   ]
  },
  {
   "cell_type": "markdown",
   "id": "6cc71188",
   "metadata": {},
   "source": [
    "**Our Insights:**\n",
    "    \n",
    "Here we see that admin and blue collar workers are subscribing to the deposit"
   ]
  },
  {
   "cell_type": "markdown",
   "id": "2ffc7944",
   "metadata": {},
   "source": [
    "#### Visualizing which customer subscribed to the deposit based on their education"
   ]
  },
  {
   "cell_type": "code",
   "execution_count": 19,
   "id": "868fb868",
   "metadata": {},
   "outputs": [
    {
     "data": {
      "image/png": "[encoded data removed]",
      "text/plain": [
       "<Figure size 1080x432 with 1 Axes>"
      ]
     },
     "metadata": {
      "needs_background": "light"
     },
     "output_type": "display_data"
    }
   ],
   "source": [
    "plt.figure(figsize=(15,6))\n",
    "\n",
    "sns.countplot(data=df,x = df['education'],hue = df['y']);"
   ]
  },
  {
   "cell_type": "markdown",
   "id": "da34d7a7",
   "metadata": {},
   "source": [
    "**Our Insights:**\n",
    "    \n",
    "We find that customers with university degree and high school degree are subscribing to the deposit"
   ]
  },
  {
   "cell_type": "markdown",
   "id": "1d30ef19",
   "metadata": {},
   "source": [
    "#### Visualizing which customer subscribed to the deposit and whether they defaulted on their loan"
   ]
  },
  {
   "cell_type": "code",
   "execution_count": 20,
   "id": "51a3a002",
   "metadata": {},
   "outputs": [
    {
     "data": {
      "image/png": "[encoded data removed]",
      "text/plain": [
       "<Figure size 1080x432 with 1 Axes>"
      ]
     },
     "metadata": {
      "needs_background": "light"
     },
     "output_type": "display_data"
    }
   ],
   "source": [
    "plt.figure(figsize=(15,6))\n",
    "\n",
    "sns.countplot(data=df,x = df['default'],hue = df['y']);"
   ]
  },
  {
   "cell_type": "markdown",
   "id": "69a4a7e9",
   "metadata": {},
   "source": [
    "**Our Insights:**\n",
    "\n",
    "We find that most of the customers who subscribed to the term deposit have not defaulted on their loan. Very few people defaulted on their loan, which is a good sign for any bank.\n",
    "\n",
    "On the other hand we see a number of people in the unknown category; we think that these customers could currently have a loan and it is yet to be repaid and have not been defaulted; as such it is unknown where the customer will default on the loan or not."
   ]
  },
  {
   "cell_type": "markdown",
   "id": "e3611b0d",
   "metadata": {},
   "source": [
    "#### Visualizing which customer subscribed to the deposit and whether they have any type of loan"
   ]
  },
  {
   "cell_type": "code",
   "execution_count": 21,
   "id": "5f850c52",
   "metadata": {},
   "outputs": [
    {
     "data": {
      "image/png": "[encoded data removed]",
      "text/plain": [
       "<Figure size 1440x576 with 2 Axes>"
      ]
     },
     "metadata": {
      "needs_background": "light"
     },
     "output_type": "display_data"
    }
   ],
   "source": [
    "columns = cat_df.columns[4:-5].to_list()\n",
    "fig, axs = plt.subplots(1, 2, figsize=(20, 8))\n",
    "axs = axs.ravel()\n",
    "\n",
    "for i, col in enumerate(columns):\n",
    "    sns.countplot(data=df, x=col,hue=df['y']  ,ax=axs[i])\n",
    "    \n",
    "plt.show()"
   ]
  },
  {
   "cell_type": "markdown",
   "id": "e2d1227b",
   "metadata": {},
   "source": [
    "**Our Insights:**\n",
    "\n",
    "Most of the customers who has housing loan are subscribing to the deposit.\n",
    "\n",
    "Most of the customers who does not have a personal loan are subscribing to the deposit."
   ]
  },
  {
   "cell_type": "markdown",
   "id": "1384a0d4",
   "metadata": {},
   "source": [
    "#### Visualizing which customer subscribed to the deposit and whether they have been contacted, which time they were contacted and what was the outcome of the contact?"
   ]
  },
  {
   "cell_type": "code",
   "execution_count": 22,
   "id": "e71e5337",
   "metadata": {},
   "outputs": [
    {
     "data": {
      "image/png": "[encoded data removed]",
      "text/plain": [
       "<Figure size 1440x576 with 4 Axes>"
      ]
     },
     "metadata": {
      "needs_background": "light"
     },
     "output_type": "display_data"
    }
   ],
   "source": [
    "columns = cat_df.columns[6:-1].to_list()\n",
    "fig, axs = plt.subplots(2, 2, figsize=(20, 8))\n",
    "axs = axs.ravel()\n",
    "\n",
    "for i, col in enumerate(columns):\n",
    "    sns.countplot(data=df, x=col,hue=df['y']  ,ax=axs[i])\n",
    "    \n",
    "plt.show()"
   ]
  },
  {
   "cell_type": "markdown",
   "id": "f3d70dde",
   "metadata": {},
   "source": [
    "**Our Insights:**\n",
    "\n",
    "Here we see that most people who subscribed to deposit were contacted by cellphone.\n",
    "\n",
    "In the month of May and June customers were contacted the most; most of these customers did not subscribed to the term deposit so maybe the marketing team is trying to onboard these customers.\n",
    "\n",
    "Relatively in all working days of the week, customers were made contact with the marketing team and most of these customers were yet to subscibe to the term deposit.\n",
    "\n",
    "The previous marketing campaign does not look good as the sucess rate is very low and most of the customers are yet to reached."
   ]
  },
  {
   "cell_type": "markdown",
   "id": "76fc6bc8",
   "metadata": {},
   "source": [
    "### Bivariate analysis of all the numerical columns with respect to whether person will take the term deposit or not:"
   ]
  },
  {
   "cell_type": "code",
   "execution_count": 23,
   "id": "90a3daf2",
   "metadata": {},
   "outputs": [
    {
     "data": {
      "text/html": [
       "<div>\n",
       "<style scoped>\n",
       "    .dataframe tbody tr th:only-of-type {\n",
       "        vertical-align: middle;\n",
       "    }\n",
       "\n",
       "    .dataframe tbody tr th {\n",
       "        vertical-align: top;\n",
       "    }\n",
       "\n",
       "    .dataframe thead th {\n",
       "        text-align: right;\n",
       "    }\n",
       "</style>\n",
       "<table border=\"1\" class=\"dataframe\">\n",
       "  <thead>\n",
       "    <tr style=\"text-align: right;\">\n",
       "      <th></th>\n",
       "      <th>age</th>\n",
       "      <th>job</th>\n",
       "      <th>marital</th>\n",
       "      <th>education</th>\n",
       "      <th>default</th>\n",
       "      <th>housing</th>\n",
       "      <th>loan</th>\n",
       "      <th>contact</th>\n",
       "      <th>month</th>\n",
       "      <th>day_of_week</th>\n",
       "      <th>duration</th>\n",
       "      <th>campaign</th>\n",
       "      <th>pdays</th>\n",
       "      <th>previous</th>\n",
       "      <th>poutcome</th>\n",
       "      <th>emp.var.rate</th>\n",
       "      <th>cons.price.idx</th>\n",
       "      <th>cons.conf.idx</th>\n",
       "      <th>euribor3m</th>\n",
       "      <th>nr.employed</th>\n",
       "      <th>y</th>\n",
       "    </tr>\n",
       "  </thead>\n",
       "  <tbody>\n",
       "    <tr>\n",
       "      <th>0</th>\n",
       "      <td>56</td>\n",
       "      <td>housemaid</td>\n",
       "      <td>married</td>\n",
       "      <td>basic.4y</td>\n",
       "      <td>no</td>\n",
       "      <td>no</td>\n",
       "      <td>no</td>\n",
       "      <td>telephone</td>\n",
       "      <td>may</td>\n",
       "      <td>mon</td>\n",
       "      <td>261</td>\n",
       "      <td>1</td>\n",
       "      <td>999</td>\n",
       "      <td>0</td>\n",
       "      <td>nonexistent</td>\n",
       "      <td>1.1</td>\n",
       "      <td>93.994</td>\n",
       "      <td>-36.4</td>\n",
       "      <td>4.857</td>\n",
       "      <td>5191.0</td>\n",
       "      <td>no</td>\n",
       "    </tr>\n",
       "    <tr>\n",
       "      <th>1</th>\n",
       "      <td>57</td>\n",
       "      <td>services</td>\n",
       "      <td>married</td>\n",
       "      <td>high.school</td>\n",
       "      <td>unknown</td>\n",
       "      <td>no</td>\n",
       "      <td>no</td>\n",
       "      <td>telephone</td>\n",
       "      <td>may</td>\n",
       "      <td>mon</td>\n",
       "      <td>149</td>\n",
       "      <td>1</td>\n",
       "      <td>999</td>\n",
       "      <td>0</td>\n",
       "      <td>nonexistent</td>\n",
       "      <td>1.1</td>\n",
       "      <td>93.994</td>\n",
       "      <td>-36.4</td>\n",
       "      <td>4.857</td>\n",
       "      <td>5191.0</td>\n",
       "      <td>no</td>\n",
       "    </tr>\n",
       "    <tr>\n",
       "      <th>2</th>\n",
       "      <td>37</td>\n",
       "      <td>services</td>\n",
       "      <td>married</td>\n",
       "      <td>high.school</td>\n",
       "      <td>no</td>\n",
       "      <td>yes</td>\n",
       "      <td>no</td>\n",
       "      <td>telephone</td>\n",
       "      <td>may</td>\n",
       "      <td>mon</td>\n",
       "      <td>226</td>\n",
       "      <td>1</td>\n",
       "      <td>999</td>\n",
       "      <td>0</td>\n",
       "      <td>nonexistent</td>\n",
       "      <td>1.1</td>\n",
       "      <td>93.994</td>\n",
       "      <td>-36.4</td>\n",
       "      <td>4.857</td>\n",
       "      <td>5191.0</td>\n",
       "      <td>no</td>\n",
       "    </tr>\n",
       "    <tr>\n",
       "      <th>3</th>\n",
       "      <td>40</td>\n",
       "      <td>admin.</td>\n",
       "      <td>married</td>\n",
       "      <td>basic.6y</td>\n",
       "      <td>no</td>\n",
       "      <td>no</td>\n",
       "      <td>no</td>\n",
       "      <td>telephone</td>\n",
       "      <td>may</td>\n",
       "      <td>mon</td>\n",
       "      <td>151</td>\n",
       "      <td>1</td>\n",
       "      <td>999</td>\n",
       "      <td>0</td>\n",
       "      <td>nonexistent</td>\n",
       "      <td>1.1</td>\n",
       "      <td>93.994</td>\n",
       "      <td>-36.4</td>\n",
       "      <td>4.857</td>\n",
       "      <td>5191.0</td>\n",
       "      <td>no</td>\n",
       "    </tr>\n",
       "    <tr>\n",
       "      <th>4</th>\n",
       "      <td>56</td>\n",
       "      <td>services</td>\n",
       "      <td>married</td>\n",
       "      <td>high.school</td>\n",
       "      <td>no</td>\n",
       "      <td>no</td>\n",
       "      <td>yes</td>\n",
       "      <td>telephone</td>\n",
       "      <td>may</td>\n",
       "      <td>mon</td>\n",
       "      <td>307</td>\n",
       "      <td>1</td>\n",
       "      <td>999</td>\n",
       "      <td>0</td>\n",
       "      <td>nonexistent</td>\n",
       "      <td>1.1</td>\n",
       "      <td>93.994</td>\n",
       "      <td>-36.4</td>\n",
       "      <td>4.857</td>\n",
       "      <td>5191.0</td>\n",
       "      <td>no</td>\n",
       "    </tr>\n",
       "  </tbody>\n",
       "</table>\n",
       "</div>"
      ],
      "text/plain": [
       "   age        job  marital    education  default housing loan    contact  \\\n",
       "0   56  housemaid  married     basic.4y       no      no   no  telephone   \n",
       "1   57   services  married  high.school  unknown      no   no  telephone   \n",
       "2   37   services  married  high.school       no     yes   no  telephone   \n",
       "3   40     admin.  married     basic.6y       no      no   no  telephone   \n",
       "4   56   services  married  high.school       no      no  yes  telephone   \n",
       "\n",
       "  month day_of_week  duration  campaign  pdays  previous     poutcome  \\\n",
       "0   may         mon       261         1    999         0  nonexistent   \n",
       "1   may         mon       149         1    999         0  nonexistent   \n",
       "2   may         mon       226         1    999         0  nonexistent   \n",
       "3   may         mon       151         1    999         0  nonexistent   \n",
       "4   may         mon       307         1    999         0  nonexistent   \n",
       "\n",
       "   emp.var.rate  cons.price.idx  cons.conf.idx  euribor3m  nr.employed   y  \n",
       "0           1.1          93.994          -36.4      4.857       5191.0  no  \n",
       "1           1.1          93.994          -36.4      4.857       5191.0  no  \n",
       "2           1.1          93.994          -36.4      4.857       5191.0  no  \n",
       "3           1.1          93.994          -36.4      4.857       5191.0  no  \n",
       "4           1.1          93.994          -36.4      4.857       5191.0  no  "
      ]
     },
     "execution_count": 23,
     "metadata": {},
     "output_type": "execute_result"
    }
   ],
   "source": [
    "df.head()"
   ]
  },
  {
   "cell_type": "markdown",
   "id": "5d3db74a",
   "metadata": {},
   "source": [
    "#### Visualizing which age of customers are subscribed to term deposit"
   ]
  },
  {
   "cell_type": "code",
   "execution_count": 24,
   "id": "1abc345e",
   "metadata": {},
   "outputs": [
    {
     "data": {
      "image/png": "[encoded data removed]",
      "text/plain": [
       "<Figure size 1080x432 with 1 Axes>"
      ]
     },
     "metadata": {
      "needs_background": "light"
     },
     "output_type": "display_data"
    }
   ],
   "source": [
    "plt.figure(figsize = (15,6))\n",
    "sns.histplot(data =df,x = 'age',bins = 20,hue ='y');"
   ]
  },
  {
   "cell_type": "code",
   "execution_count": 25,
   "id": "45cc9451",
   "metadata": {},
   "outputs": [
    {
     "data": {
      "image/png": "[encoded data removed]",
      "text/plain": [
       "<Figure size 1080x432 with 1 Axes>"
      ]
     },
     "metadata": {
      "needs_background": "light"
     },
     "output_type": "display_data"
    }
   ],
   "source": [
    "plt.figure(figsize = (15,6))\n",
    "sns.boxplot(data=df,x='y',y='age');"
   ]
  },
  {
   "cell_type": "markdown",
   "id": "d56c0c17",
   "metadata": {},
   "source": [
    "**Our Insights:**\n",
    "\n",
    "At age 30-35, customers are more likely to get the term deposit"
   ]
  },
  {
   "cell_type": "markdown",
   "id": "2200c880",
   "metadata": {},
   "source": [
    "#### Visualizing the relationship between consumer confidence index and consumer price index in relation with whether customer subscribed to deposite or not"
   ]
  },
  {
   "cell_type": "code",
   "execution_count": 26,
   "id": "bc87a1cf",
   "metadata": {},
   "outputs": [
    {
     "data": {
      "image/png": "[encoded data removed]",
      "text/plain": [
       "<Figure size 1080x432 with 1 Axes>"
      ]
     },
     "metadata": {
      "needs_background": "light"
     },
     "output_type": "display_data"
    }
   ],
   "source": [
    "plt.figure(figsize = (15,6))\n",
    "sns.scatterplot(data =df,x = 'cons.price.idx',y= 'cons.conf.idx',hue = 'y',size = 'housing');"
   ]
  },
  {
   "cell_type": "markdown",
   "id": "d2c82a7e",
   "metadata": {},
   "source": [
    "**Our Insights:**\n",
    "\n",
    "Here we see that as more customers are likely to subscibe to term deposit when the consumer price index and consumer confidence index are going up."
   ]
  },
  {
   "cell_type": "markdown",
   "id": "7746db46",
   "metadata": {},
   "source": [
    "#### Visualizing the relationship between employment variation rate and education with respect to customer subscribed to deposit"
   ]
  },
  {
   "cell_type": "code",
   "execution_count": 27,
   "id": "57461564",
   "metadata": {},
   "outputs": [
    {
     "data": {
      "image/png": "[encoded data removed]",
      "text/plain": [
       "<Figure size 1080x432 with 1 Axes>"
      ]
     },
     "metadata": {
      "needs_background": "light"
     },
     "output_type": "display_data"
    }
   ],
   "source": [
    "plt.figure(figsize = (15,6))\n",
    "sns.barplot(data =df,y = 'emp.var.rate',x = 'education',hue ='y');"
   ]
  },
  {
   "cell_type": "markdown",
   "id": "47b1411c",
   "metadata": {},
   "source": [
    "**Our Insights:**\n",
    "    \n",
    "Here we see during low employment variation rate, illterate customers tend to subscribe to term deposit"
   ]
  },
  {
   "cell_type": "markdown",
   "id": "7c8e2400",
   "metadata": {},
   "source": [
    "## MULTI VARIATE"
   ]
  },
  {
   "cell_type": "code",
   "execution_count": 28,
   "id": "c1e71f3d",
   "metadata": {},
   "outputs": [
    {
     "data": {
      "image/png": "[encoded data removed]",
      "text/plain": [
       "<Figure size 1440x1080 with 2 Axes>"
      ]
     },
     "metadata": {},
     "output_type": "display_data"
    }
   ],
   "source": [
    "plt.figure(figsize=(20,15),facecolor='white')\n",
    "sns.heatmap(data=df.corr(),annot=True)\n",
    "plt.show()"
   ]
  },
  {
   "cell_type": "markdown",
   "id": "cfb7a556",
   "metadata": {},
   "source": [
    "### Insights;\n",
    "1. here we found that euribor3m and nr.employed are 0.95%  correlated.\n",
    "2. here we found that euribor3m and emp.var.rate are 0.97% correlated.\n",
    "3. here we found that emp.var.rate and nr.emoloyed are 0.91% correlated."
   ]
  },
  {
   "cell_type": "markdown",
   "id": "0b81ff85",
   "metadata": {},
   "source": [
    "## Data preprocessing\n",
    "Handling missing values \n"
   ]
  },
  {
   "cell_type": "code",
   "execution_count": 29,
   "id": "5fa4297a",
   "metadata": {},
   "outputs": [
    {
     "data": {
      "text/plain": [
       "age               0\n",
       "job               0\n",
       "marital           0\n",
       "education         0\n",
       "default           0\n",
       "housing           0\n",
       "loan              0\n",
       "contact           0\n",
       "month             0\n",
       "day_of_week       0\n",
       "duration          0\n",
       "campaign          0\n",
       "pdays             0\n",
       "previous          0\n",
       "poutcome          0\n",
       "emp.var.rate      0\n",
       "cons.price.idx    0\n",
       "cons.conf.idx     0\n",
       "euribor3m         0\n",
       "nr.employed       0\n",
       "y                 0\n",
       "dtype: int64"
      ]
     },
     "execution_count": 29,
     "metadata": {},
     "output_type": "execute_result"
    }
   ],
   "source": [
    "df.isnull().sum()"
   ]
  },
  {
   "cell_type": "markdown",
   "id": "646cd8d8",
   "metadata": {},
   "source": [
    "We have missing values as in dataset given as 'unknown'; however we have decided to keep this 'unknown' values as a class of its own."
   ]
  },
  {
   "cell_type": "markdown",
   "id": "8c2c8fe3",
   "metadata": {},
   "source": [
    "## Dealing with outliers"
   ]
  },
  {
   "cell_type": "code",
   "execution_count": 30,
   "id": "21392d2c",
   "metadata": {
    "scrolled": true
   },
   "outputs": [
    {
     "data": {
      "text/html": [
       "<div>\n",
       "<style scoped>\n",
       "    .dataframe tbody tr th:only-of-type {\n",
       "        vertical-align: middle;\n",
       "    }\n",
       "\n",
       "    .dataframe tbody tr th {\n",
       "        vertical-align: top;\n",
       "    }\n",
       "\n",
       "    .dataframe thead th {\n",
       "        text-align: right;\n",
       "    }\n",
       "</style>\n",
       "<table border=\"1\" class=\"dataframe\">\n",
       "  <thead>\n",
       "    <tr style=\"text-align: right;\">\n",
       "      <th></th>\n",
       "      <th>age</th>\n",
       "      <th>duration</th>\n",
       "      <th>campaign</th>\n",
       "      <th>pdays</th>\n",
       "      <th>previous</th>\n",
       "      <th>emp.var.rate</th>\n",
       "      <th>cons.price.idx</th>\n",
       "      <th>cons.conf.idx</th>\n",
       "      <th>euribor3m</th>\n",
       "      <th>nr.employed</th>\n",
       "    </tr>\n",
       "  </thead>\n",
       "  <tbody>\n",
       "    <tr>\n",
       "      <th>0</th>\n",
       "      <td>56</td>\n",
       "      <td>261</td>\n",
       "      <td>1</td>\n",
       "      <td>999</td>\n",
       "      <td>0</td>\n",
       "      <td>1.1</td>\n",
       "      <td>93.994</td>\n",
       "      <td>-36.4</td>\n",
       "      <td>4.857</td>\n",
       "      <td>5191.0</td>\n",
       "    </tr>\n",
       "    <tr>\n",
       "      <th>1</th>\n",
       "      <td>57</td>\n",
       "      <td>149</td>\n",
       "      <td>1</td>\n",
       "      <td>999</td>\n",
       "      <td>0</td>\n",
       "      <td>1.1</td>\n",
       "      <td>93.994</td>\n",
       "      <td>-36.4</td>\n",
       "      <td>4.857</td>\n",
       "      <td>5191.0</td>\n",
       "    </tr>\n",
       "  </tbody>\n",
       "</table>\n",
       "</div>"
      ],
      "text/plain": [
       "   age  duration  campaign  pdays  previous  emp.var.rate  cons.price.idx  \\\n",
       "0   56       261         1    999         0           1.1          93.994   \n",
       "1   57       149         1    999         0           1.1          93.994   \n",
       "\n",
       "   cons.conf.idx  euribor3m  nr.employed  \n",
       "0          -36.4      4.857       5191.0  \n",
       "1          -36.4      4.857       5191.0  "
      ]
     },
     "execution_count": 30,
     "metadata": {},
     "output_type": "execute_result"
    }
   ],
   "source": [
    "numercial_cols = df.select_dtypes(\"number\")\n",
    "numercial_cols.head(2)"
   ]
  },
  {
   "cell_type": "markdown",
   "id": "03d25f12",
   "metadata": {},
   "source": [
    "## Finding Outliers using Z-Score Index"
   ]
  },
  {
   "cell_type": "code",
   "execution_count": 31,
   "id": "1b38148c",
   "metadata": {},
   "outputs": [
    {
     "name": "stdout",
     "output_type": "stream",
     "text": [
      "Using 'Z-Score Index we found there are 4678 Outliers\n"
     ]
    }
   ],
   "source": [
    "from scipy import stats\n",
    "import numpy as np\n",
    "\n",
    "z = np.abs(stats.zscore(numercial_cols))\n",
    "threshold = 3\n",
    "outliers = np.where(z > threshold)\n",
    "print(f\"Using 'Z-Score Index we found there are {len(outliers[0])} Outliers\")"
   ]
  },
  {
   "cell_type": "markdown",
   "id": "5b032945",
   "metadata": {},
   "source": [
    "Since our dataset is not normaly distributed so it is better to avoid Z-Score index and go for more robust statistical methods such as the median absolute deviation (MAD) method"
   ]
  },
  {
   "cell_type": "markdown",
   "id": "e1dabeca",
   "metadata": {},
   "source": [
    "#### Finding Outliers using Mean Absolute Deviation"
   ]
  },
  {
   "cell_type": "code",
   "execution_count": 32,
   "id": "e2a7bd86",
   "metadata": {},
   "outputs": [],
   "source": [
    "median = numercial_cols.median()\n",
    "mad = numercial_cols.mad()\n",
    "outliers_using_MAD = numercial_cols[(numercial_cols - median).abs() > 3 * mad]"
   ]
  },
  {
   "cell_type": "code",
   "execution_count": 33,
   "id": "f8502be5",
   "metadata": {},
   "outputs": [
    {
     "data": {
      "text/html": [
       "<div>\n",
       "<style scoped>\n",
       "    .dataframe tbody tr th:only-of-type {\n",
       "        vertical-align: middle;\n",
       "    }\n",
       "\n",
       "    .dataframe tbody tr th {\n",
       "        vertical-align: top;\n",
       "    }\n",
       "\n",
       "    .dataframe thead th {\n",
       "        text-align: right;\n",
       "    }\n",
       "</style>\n",
       "<table border=\"1\" class=\"dataframe\">\n",
       "  <thead>\n",
       "    <tr style=\"text-align: right;\">\n",
       "      <th></th>\n",
       "      <th>Outliers_Detected_using_MAD</th>\n",
       "    </tr>\n",
       "  </thead>\n",
       "  <tbody>\n",
       "    <tr>\n",
       "      <th>age</th>\n",
       "      <td>720</td>\n",
       "    </tr>\n",
       "    <tr>\n",
       "      <th>duration</th>\n",
       "      <td>2513</td>\n",
       "    </tr>\n",
       "    <tr>\n",
       "      <th>campaign</th>\n",
       "      <td>2406</td>\n",
       "    </tr>\n",
       "    <tr>\n",
       "      <th>pdays</th>\n",
       "      <td>1500</td>\n",
       "    </tr>\n",
       "    <tr>\n",
       "      <th>previous</th>\n",
       "      <td>5625</td>\n",
       "    </tr>\n",
       "    <tr>\n",
       "      <th>cons.price.idx</th>\n",
       "      <td>770</td>\n",
       "    </tr>\n",
       "    <tr>\n",
       "      <th>nr.employed</th>\n",
       "      <td>1408</td>\n",
       "    </tr>\n",
       "  </tbody>\n",
       "</table>\n",
       "</div>"
      ],
      "text/plain": [
       "                Outliers_Detected_using_MAD\n",
       "age                                     720\n",
       "duration                               2513\n",
       "campaign                               2406\n",
       "pdays                                  1500\n",
       "previous                               5625\n",
       "cons.price.idx                          770\n",
       "nr.employed                            1408"
      ]
     },
     "execution_count": 33,
     "metadata": {},
     "output_type": "execute_result"
    }
   ],
   "source": [
    "list1 = []\n",
    "dict1={}\n",
    "for i in outliers_using_MAD:\n",
    "    outlier1 = outliers_using_MAD[i].values>0\n",
    "    for j in outlier1:\n",
    "        if j == True:\n",
    "            list1.append(i)\n",
    "for k in list1:            \n",
    "    dict1.update({k: list1.count(k)})\n",
    "\n",
    "pd.DataFrame(dict1,index=['Outliers_Detected_using_MAD']).T\n"
   ]
  },
  {
   "cell_type": "markdown",
   "id": "c4880e71",
   "metadata": {},
   "source": [
    "### Finding Outliers using box plots"
   ]
  },
  {
   "cell_type": "code",
   "execution_count": 34,
   "id": "3e2494b1",
   "metadata": {},
   "outputs": [
    {
     "data": {
      "image/png": "[encoded data removed]",
      "text/plain": [
       "<Figure size 1440x1440 with 10 Axes>"
      ]
     },
     "metadata": {
      "needs_background": "light"
     },
     "output_type": "display_data"
    }
   ],
   "source": [
    "columns = outliers_using_MAD.columns\n",
    "\n",
    "ncols = 2\n",
    "nrows = 5\n",
    "fig, axes = plt.subplots(nrows=nrows, ncols=ncols, figsize=(20, 20))\n",
    "\n",
    "for i, column in enumerate(columns):\n",
    "    ax = axes[i // ncols, i % ncols]\n",
    "    df.boxplot(column=column, ax=ax)\n",
    "    ax.set_title(column)\n",
    "\n",
    "# plt.delaxes(axes[-1,-1])\n",
    "plt.tight_layout()\n",
    "plt.show()"
   ]
  },
  {
   "cell_type": "markdown",
   "id": "1ec63ac5",
   "metadata": {},
   "source": [
    "#### Our Findings: "
   ]
  },
  {
   "cell_type": "markdown",
   "id": "3b957849",
   "metadata": {},
   "source": [
    "Using statistical tools like Mean Absolute Deviation (MAD) and visualiztion with box-plot we have identified a number of outliers.\n",
    "\n",
    "**However, we have decided to keep the outliers in our data, as we will be using various tree based machine learning models and boosting techniques that unlike distance based algorithms have no effect on outliers.**"
   ]
  },
  {
   "cell_type": "markdown",
   "id": "079a1e6a",
   "metadata": {},
   "source": [
    "### Finding Duplicate Values"
   ]
  },
  {
   "cell_type": "code",
   "execution_count": 35,
   "id": "62c5d359",
   "metadata": {},
   "outputs": [
    {
     "data": {
      "text/html": [
       "<div>\n",
       "<style scoped>\n",
       "    .dataframe tbody tr th:only-of-type {\n",
       "        vertical-align: middle;\n",
       "    }\n",
       "\n",
       "    .dataframe tbody tr th {\n",
       "        vertical-align: top;\n",
       "    }\n",
       "\n",
       "    .dataframe thead th {\n",
       "        text-align: right;\n",
       "    }\n",
       "</style>\n",
       "<table border=\"1\" class=\"dataframe\">\n",
       "  <thead>\n",
       "    <tr style=\"text-align: right;\">\n",
       "      <th></th>\n",
       "      <th>age</th>\n",
       "      <th>job</th>\n",
       "      <th>marital</th>\n",
       "      <th>education</th>\n",
       "      <th>default</th>\n",
       "      <th>housing</th>\n",
       "      <th>loan</th>\n",
       "      <th>contact</th>\n",
       "      <th>month</th>\n",
       "      <th>day_of_week</th>\n",
       "      <th>duration</th>\n",
       "      <th>campaign</th>\n",
       "      <th>pdays</th>\n",
       "      <th>previous</th>\n",
       "      <th>poutcome</th>\n",
       "      <th>emp.var.rate</th>\n",
       "      <th>cons.price.idx</th>\n",
       "      <th>cons.conf.idx</th>\n",
       "      <th>euribor3m</th>\n",
       "      <th>nr.employed</th>\n",
       "      <th>y</th>\n",
       "    </tr>\n",
       "  </thead>\n",
       "  <tbody>\n",
       "    <tr>\n",
       "      <th>1266</th>\n",
       "      <td>39</td>\n",
       "      <td>blue-collar</td>\n",
       "      <td>married</td>\n",
       "      <td>basic.6y</td>\n",
       "      <td>no</td>\n",
       "      <td>no</td>\n",
       "      <td>no</td>\n",
       "      <td>telephone</td>\n",
       "      <td>may</td>\n",
       "      <td>thu</td>\n",
       "      <td>124</td>\n",
       "      <td>1</td>\n",
       "      <td>999</td>\n",
       "      <td>0</td>\n",
       "      <td>nonexistent</td>\n",
       "      <td>1.1</td>\n",
       "      <td>93.994</td>\n",
       "      <td>-36.4</td>\n",
       "      <td>4.855</td>\n",
       "      <td>5191.0</td>\n",
       "      <td>no</td>\n",
       "    </tr>\n",
       "    <tr>\n",
       "      <th>12261</th>\n",
       "      <td>36</td>\n",
       "      <td>retired</td>\n",
       "      <td>married</td>\n",
       "      <td>unknown</td>\n",
       "      <td>no</td>\n",
       "      <td>no</td>\n",
       "      <td>no</td>\n",
       "      <td>telephone</td>\n",
       "      <td>jul</td>\n",
       "      <td>thu</td>\n",
       "      <td>88</td>\n",
       "      <td>1</td>\n",
       "      <td>999</td>\n",
       "      <td>0</td>\n",
       "      <td>nonexistent</td>\n",
       "      <td>1.4</td>\n",
       "      <td>93.918</td>\n",
       "      <td>-42.7</td>\n",
       "      <td>4.966</td>\n",
       "      <td>5228.1</td>\n",
       "      <td>no</td>\n",
       "    </tr>\n",
       "    <tr>\n",
       "      <th>14234</th>\n",
       "      <td>27</td>\n",
       "      <td>technician</td>\n",
       "      <td>single</td>\n",
       "      <td>professional.course</td>\n",
       "      <td>no</td>\n",
       "      <td>no</td>\n",
       "      <td>no</td>\n",
       "      <td>cellular</td>\n",
       "      <td>jul</td>\n",
       "      <td>mon</td>\n",
       "      <td>331</td>\n",
       "      <td>2</td>\n",
       "      <td>999</td>\n",
       "      <td>0</td>\n",
       "      <td>nonexistent</td>\n",
       "      <td>1.4</td>\n",
       "      <td>93.918</td>\n",
       "      <td>-42.7</td>\n",
       "      <td>4.962</td>\n",
       "      <td>5228.1</td>\n",
       "      <td>no</td>\n",
       "    </tr>\n",
       "    <tr>\n",
       "      <th>16956</th>\n",
       "      <td>47</td>\n",
       "      <td>technician</td>\n",
       "      <td>divorced</td>\n",
       "      <td>high.school</td>\n",
       "      <td>no</td>\n",
       "      <td>yes</td>\n",
       "      <td>no</td>\n",
       "      <td>cellular</td>\n",
       "      <td>jul</td>\n",
       "      <td>thu</td>\n",
       "      <td>43</td>\n",
       "      <td>3</td>\n",
       "      <td>999</td>\n",
       "      <td>0</td>\n",
       "      <td>nonexistent</td>\n",
       "      <td>1.4</td>\n",
       "      <td>93.918</td>\n",
       "      <td>-42.7</td>\n",
       "      <td>4.962</td>\n",
       "      <td>5228.1</td>\n",
       "      <td>no</td>\n",
       "    </tr>\n",
       "    <tr>\n",
       "      <th>18465</th>\n",
       "      <td>32</td>\n",
       "      <td>technician</td>\n",
       "      <td>single</td>\n",
       "      <td>professional.course</td>\n",
       "      <td>no</td>\n",
       "      <td>yes</td>\n",
       "      <td>no</td>\n",
       "      <td>cellular</td>\n",
       "      <td>jul</td>\n",
       "      <td>thu</td>\n",
       "      <td>128</td>\n",
       "      <td>1</td>\n",
       "      <td>999</td>\n",
       "      <td>0</td>\n",
       "      <td>nonexistent</td>\n",
       "      <td>1.4</td>\n",
       "      <td>93.918</td>\n",
       "      <td>-42.7</td>\n",
       "      <td>4.968</td>\n",
       "      <td>5228.1</td>\n",
       "      <td>no</td>\n",
       "    </tr>\n",
       "    <tr>\n",
       "      <th>20216</th>\n",
       "      <td>55</td>\n",
       "      <td>services</td>\n",
       "      <td>married</td>\n",
       "      <td>high.school</td>\n",
       "      <td>unknown</td>\n",
       "      <td>no</td>\n",
       "      <td>no</td>\n",
       "      <td>cellular</td>\n",
       "      <td>aug</td>\n",
       "      <td>mon</td>\n",
       "      <td>33</td>\n",
       "      <td>1</td>\n",
       "      <td>999</td>\n",
       "      <td>0</td>\n",
       "      <td>nonexistent</td>\n",
       "      <td>1.4</td>\n",
       "      <td>93.444</td>\n",
       "      <td>-36.1</td>\n",
       "      <td>4.965</td>\n",
       "      <td>5228.1</td>\n",
       "      <td>no</td>\n",
       "    </tr>\n",
       "    <tr>\n",
       "      <th>20534</th>\n",
       "      <td>41</td>\n",
       "      <td>technician</td>\n",
       "      <td>married</td>\n",
       "      <td>professional.course</td>\n",
       "      <td>no</td>\n",
       "      <td>yes</td>\n",
       "      <td>no</td>\n",
       "      <td>cellular</td>\n",
       "      <td>aug</td>\n",
       "      <td>tue</td>\n",
       "      <td>127</td>\n",
       "      <td>1</td>\n",
       "      <td>999</td>\n",
       "      <td>0</td>\n",
       "      <td>nonexistent</td>\n",
       "      <td>1.4</td>\n",
       "      <td>93.444</td>\n",
       "      <td>-36.1</td>\n",
       "      <td>4.966</td>\n",
       "      <td>5228.1</td>\n",
       "      <td>no</td>\n",
       "    </tr>\n",
       "    <tr>\n",
       "      <th>25217</th>\n",
       "      <td>39</td>\n",
       "      <td>admin.</td>\n",
       "      <td>married</td>\n",
       "      <td>university.degree</td>\n",
       "      <td>no</td>\n",
       "      <td>no</td>\n",
       "      <td>no</td>\n",
       "      <td>cellular</td>\n",
       "      <td>nov</td>\n",
       "      <td>tue</td>\n",
       "      <td>123</td>\n",
       "      <td>2</td>\n",
       "      <td>999</td>\n",
       "      <td>0</td>\n",
       "      <td>nonexistent</td>\n",
       "      <td>-0.1</td>\n",
       "      <td>93.200</td>\n",
       "      <td>-42.0</td>\n",
       "      <td>4.153</td>\n",
       "      <td>5195.8</td>\n",
       "      <td>no</td>\n",
       "    </tr>\n",
       "    <tr>\n",
       "      <th>28477</th>\n",
       "      <td>24</td>\n",
       "      <td>services</td>\n",
       "      <td>single</td>\n",
       "      <td>high.school</td>\n",
       "      <td>no</td>\n",
       "      <td>yes</td>\n",
       "      <td>no</td>\n",
       "      <td>cellular</td>\n",
       "      <td>apr</td>\n",
       "      <td>tue</td>\n",
       "      <td>114</td>\n",
       "      <td>1</td>\n",
       "      <td>999</td>\n",
       "      <td>0</td>\n",
       "      <td>nonexistent</td>\n",
       "      <td>-1.8</td>\n",
       "      <td>93.075</td>\n",
       "      <td>-47.1</td>\n",
       "      <td>1.423</td>\n",
       "      <td>5099.1</td>\n",
       "      <td>no</td>\n",
       "    </tr>\n",
       "    <tr>\n",
       "      <th>32516</th>\n",
       "      <td>35</td>\n",
       "      <td>admin.</td>\n",
       "      <td>married</td>\n",
       "      <td>university.degree</td>\n",
       "      <td>no</td>\n",
       "      <td>yes</td>\n",
       "      <td>no</td>\n",
       "      <td>cellular</td>\n",
       "      <td>may</td>\n",
       "      <td>fri</td>\n",
       "      <td>348</td>\n",
       "      <td>4</td>\n",
       "      <td>999</td>\n",
       "      <td>0</td>\n",
       "      <td>nonexistent</td>\n",
       "      <td>-1.8</td>\n",
       "      <td>92.893</td>\n",
       "      <td>-46.2</td>\n",
       "      <td>1.313</td>\n",
       "      <td>5099.1</td>\n",
       "      <td>no</td>\n",
       "    </tr>\n",
       "    <tr>\n",
       "      <th>36951</th>\n",
       "      <td>45</td>\n",
       "      <td>admin.</td>\n",
       "      <td>married</td>\n",
       "      <td>university.degree</td>\n",
       "      <td>no</td>\n",
       "      <td>no</td>\n",
       "      <td>no</td>\n",
       "      <td>cellular</td>\n",
       "      <td>jul</td>\n",
       "      <td>thu</td>\n",
       "      <td>252</td>\n",
       "      <td>1</td>\n",
       "      <td>999</td>\n",
       "      <td>0</td>\n",
       "      <td>nonexistent</td>\n",
       "      <td>-2.9</td>\n",
       "      <td>92.469</td>\n",
       "      <td>-33.6</td>\n",
       "      <td>1.072</td>\n",
       "      <td>5076.2</td>\n",
       "      <td>yes</td>\n",
       "    </tr>\n",
       "    <tr>\n",
       "      <th>38281</th>\n",
       "      <td>71</td>\n",
       "      <td>retired</td>\n",
       "      <td>single</td>\n",
       "      <td>university.degree</td>\n",
       "      <td>no</td>\n",
       "      <td>no</td>\n",
       "      <td>no</td>\n",
       "      <td>telephone</td>\n",
       "      <td>oct</td>\n",
       "      <td>tue</td>\n",
       "      <td>120</td>\n",
       "      <td>1</td>\n",
       "      <td>999</td>\n",
       "      <td>0</td>\n",
       "      <td>nonexistent</td>\n",
       "      <td>-3.4</td>\n",
       "      <td>92.431</td>\n",
       "      <td>-26.9</td>\n",
       "      <td>0.742</td>\n",
       "      <td>5017.5</td>\n",
       "      <td>no</td>\n",
       "    </tr>\n",
       "  </tbody>\n",
       "</table>\n",
       "</div>"
      ],
      "text/plain": [
       "       age          job   marital            education  default housing loan  \\\n",
       "1266    39  blue-collar   married             basic.6y       no      no   no   \n",
       "12261   36      retired   married              unknown       no      no   no   \n",
       "14234   27   technician    single  professional.course       no      no   no   \n",
       "16956   47   technician  divorced          high.school       no     yes   no   \n",
       "18465   32   technician    single  professional.course       no     yes   no   \n",
       "20216   55     services   married          high.school  unknown      no   no   \n",
       "20534   41   technician   married  professional.course       no     yes   no   \n",
       "25217   39       admin.   married    university.degree       no      no   no   \n",
       "28477   24     services    single          high.school       no     yes   no   \n",
       "32516   35       admin.   married    university.degree       no     yes   no   \n",
       "36951   45       admin.   married    university.degree       no      no   no   \n",
       "38281   71      retired    single    university.degree       no      no   no   \n",
       "\n",
       "         contact month day_of_week  duration  campaign  pdays  previous  \\\n",
       "1266   telephone   may         thu       124         1    999         0   \n",
       "12261  telephone   jul         thu        88         1    999         0   \n",
       "14234   cellular   jul         mon       331         2    999         0   \n",
       "16956   cellular   jul         thu        43         3    999         0   \n",
       "18465   cellular   jul         thu       128         1    999         0   \n",
       "20216   cellular   aug         mon        33         1    999         0   \n",
       "20534   cellular   aug         tue       127         1    999         0   \n",
       "25217   cellular   nov         tue       123         2    999         0   \n",
       "28477   cellular   apr         tue       114         1    999         0   \n",
       "32516   cellular   may         fri       348         4    999         0   \n",
       "36951   cellular   jul         thu       252         1    999         0   \n",
       "38281  telephone   oct         tue       120         1    999         0   \n",
       "\n",
       "          poutcome  emp.var.rate  cons.price.idx  cons.conf.idx  euribor3m  \\\n",
       "1266   nonexistent           1.1          93.994          -36.4      4.855   \n",
       "12261  nonexistent           1.4          93.918          -42.7      4.966   \n",
       "14234  nonexistent           1.4          93.918          -42.7      4.962   \n",
       "16956  nonexistent           1.4          93.918          -42.7      4.962   \n",
       "18465  nonexistent           1.4          93.918          -42.7      4.968   \n",
       "20216  nonexistent           1.4          93.444          -36.1      4.965   \n",
       "20534  nonexistent           1.4          93.444          -36.1      4.966   \n",
       "25217  nonexistent          -0.1          93.200          -42.0      4.153   \n",
       "28477  nonexistent          -1.8          93.075          -47.1      1.423   \n",
       "32516  nonexistent          -1.8          92.893          -46.2      1.313   \n",
       "36951  nonexistent          -2.9          92.469          -33.6      1.072   \n",
       "38281  nonexistent          -3.4          92.431          -26.9      0.742   \n",
       "\n",
       "       nr.employed    y  \n",
       "1266        5191.0   no  \n",
       "12261       5228.1   no  \n",
       "14234       5228.1   no  \n",
       "16956       5228.1   no  \n",
       "18465       5228.1   no  \n",
       "20216       5228.1   no  \n",
       "20534       5228.1   no  \n",
       "25217       5195.8   no  \n",
       "28477       5099.1   no  \n",
       "32516       5099.1   no  \n",
       "36951       5076.2  yes  \n",
       "38281       5017.5   no  "
      ]
     },
     "execution_count": 35,
     "metadata": {},
     "output_type": "execute_result"
    }
   ],
   "source": [
    "df[df.duplicated()]"
   ]
  },
  {
   "cell_type": "code",
   "execution_count": 36,
   "id": "5f3eb7de",
   "metadata": {},
   "outputs": [
    {
     "name": "stdout",
     "output_type": "stream",
     "text": [
      "There are 12 duplicate rows in the dataframe.\n"
     ]
    }
   ],
   "source": [
    "# Count occurrences of each duplicate value\n",
    "duplicate_count = df.duplicated().sum()\n",
    "print(f'There are {duplicate_count} duplicate rows in the dataframe.')\n"
   ]
  },
  {
   "cell_type": "code",
   "execution_count": 37,
   "id": "a97a4fb3",
   "metadata": {},
   "outputs": [],
   "source": [
    "# Keep one occurrence of each duplicate value\n",
    "df = df.drop_duplicates(keep='first')"
   ]
  },
  {
   "cell_type": "code",
   "execution_count": 38,
   "id": "24947254",
   "metadata": {},
   "outputs": [
    {
     "name": "stdout",
     "output_type": "stream",
     "text": [
      "There are 0 duplicate rows in the dataframe.\n"
     ]
    }
   ],
   "source": [
    "duplicate_count = df.duplicated().sum()\n",
    "print(f'There are {duplicate_count} duplicate rows in the dataframe.')"
   ]
  },
  {
   "cell_type": "code",
   "execution_count": 39,
   "id": "6183fa2e",
   "metadata": {},
   "outputs": [],
   "source": [
    "df=df.drop(['duration'],axis=1)"
   ]
  },
  {
   "cell_type": "markdown",
   "id": "0c3b48db",
   "metadata": {},
   "source": [
    "## Encoding our data"
   ]
  },
  {
   "cell_type": "code",
   "execution_count": 40,
   "id": "2f86b6a3",
   "metadata": {},
   "outputs": [],
   "source": [
    "df['y'] = df['y'].map({'yes':1,'no':0})"
   ]
  },
  {
   "cell_type": "markdown",
   "id": "b12a2ca6",
   "metadata": {},
   "source": [
    "#### Encoding our data"
   ]
  },
  {
   "cell_type": "code",
   "execution_count": 41,
   "id": "805d7684",
   "metadata": {},
   "outputs": [
    {
     "data": {
      "text/html": [
       "<div>\n",
       "<style scoped>\n",
       "    .dataframe tbody tr th:only-of-type {\n",
       "        vertical-align: middle;\n",
       "    }\n",
       "\n",
       "    .dataframe tbody tr th {\n",
       "        vertical-align: top;\n",
       "    }\n",
       "\n",
       "    .dataframe thead th {\n",
       "        text-align: right;\n",
       "    }\n",
       "</style>\n",
       "<table border=\"1\" class=\"dataframe\">\n",
       "  <thead>\n",
       "    <tr style=\"text-align: right;\">\n",
       "      <th></th>\n",
       "      <th>age</th>\n",
       "      <th>job</th>\n",
       "      <th>marital</th>\n",
       "      <th>education</th>\n",
       "      <th>default</th>\n",
       "      <th>housing</th>\n",
       "      <th>loan</th>\n",
       "      <th>contact</th>\n",
       "      <th>month</th>\n",
       "      <th>day_of_week</th>\n",
       "      <th>campaign</th>\n",
       "      <th>pdays</th>\n",
       "      <th>previous</th>\n",
       "      <th>poutcome</th>\n",
       "      <th>emp.var.rate</th>\n",
       "      <th>cons.price.idx</th>\n",
       "      <th>cons.conf.idx</th>\n",
       "      <th>euribor3m</th>\n",
       "      <th>nr.employed</th>\n",
       "      <th>y</th>\n",
       "    </tr>\n",
       "  </thead>\n",
       "  <tbody>\n",
       "    <tr>\n",
       "      <th>0</th>\n",
       "      <td>56</td>\n",
       "      <td>3</td>\n",
       "      <td>1</td>\n",
       "      <td>0</td>\n",
       "      <td>0</td>\n",
       "      <td>0</td>\n",
       "      <td>0</td>\n",
       "      <td>1</td>\n",
       "      <td>6</td>\n",
       "      <td>1</td>\n",
       "      <td>1</td>\n",
       "      <td>999</td>\n",
       "      <td>0</td>\n",
       "      <td>1</td>\n",
       "      <td>1.1</td>\n",
       "      <td>93.994</td>\n",
       "      <td>-36.4</td>\n",
       "      <td>4.857</td>\n",
       "      <td>5191.0</td>\n",
       "      <td>0</td>\n",
       "    </tr>\n",
       "    <tr>\n",
       "      <th>1</th>\n",
       "      <td>57</td>\n",
       "      <td>7</td>\n",
       "      <td>1</td>\n",
       "      <td>3</td>\n",
       "      <td>1</td>\n",
       "      <td>0</td>\n",
       "      <td>0</td>\n",
       "      <td>1</td>\n",
       "      <td>6</td>\n",
       "      <td>1</td>\n",
       "      <td>1</td>\n",
       "      <td>999</td>\n",
       "      <td>0</td>\n",
       "      <td>1</td>\n",
       "      <td>1.1</td>\n",
       "      <td>93.994</td>\n",
       "      <td>-36.4</td>\n",
       "      <td>4.857</td>\n",
       "      <td>5191.0</td>\n",
       "      <td>0</td>\n",
       "    </tr>\n",
       "    <tr>\n",
       "      <th>2</th>\n",
       "      <td>37</td>\n",
       "      <td>7</td>\n",
       "      <td>1</td>\n",
       "      <td>3</td>\n",
       "      <td>0</td>\n",
       "      <td>2</td>\n",
       "      <td>0</td>\n",
       "      <td>1</td>\n",
       "      <td>6</td>\n",
       "      <td>1</td>\n",
       "      <td>1</td>\n",
       "      <td>999</td>\n",
       "      <td>0</td>\n",
       "      <td>1</td>\n",
       "      <td>1.1</td>\n",
       "      <td>93.994</td>\n",
       "      <td>-36.4</td>\n",
       "      <td>4.857</td>\n",
       "      <td>5191.0</td>\n",
       "      <td>0</td>\n",
       "    </tr>\n",
       "    <tr>\n",
       "      <th>3</th>\n",
       "      <td>40</td>\n",
       "      <td>0</td>\n",
       "      <td>1</td>\n",
       "      <td>1</td>\n",
       "      <td>0</td>\n",
       "      <td>0</td>\n",
       "      <td>0</td>\n",
       "      <td>1</td>\n",
       "      <td>6</td>\n",
       "      <td>1</td>\n",
       "      <td>1</td>\n",
       "      <td>999</td>\n",
       "      <td>0</td>\n",
       "      <td>1</td>\n",
       "      <td>1.1</td>\n",
       "      <td>93.994</td>\n",
       "      <td>-36.4</td>\n",
       "      <td>4.857</td>\n",
       "      <td>5191.0</td>\n",
       "      <td>0</td>\n",
       "    </tr>\n",
       "    <tr>\n",
       "      <th>4</th>\n",
       "      <td>56</td>\n",
       "      <td>7</td>\n",
       "      <td>1</td>\n",
       "      <td>3</td>\n",
       "      <td>0</td>\n",
       "      <td>0</td>\n",
       "      <td>2</td>\n",
       "      <td>1</td>\n",
       "      <td>6</td>\n",
       "      <td>1</td>\n",
       "      <td>1</td>\n",
       "      <td>999</td>\n",
       "      <td>0</td>\n",
       "      <td>1</td>\n",
       "      <td>1.1</td>\n",
       "      <td>93.994</td>\n",
       "      <td>-36.4</td>\n",
       "      <td>4.857</td>\n",
       "      <td>5191.0</td>\n",
       "      <td>0</td>\n",
       "    </tr>\n",
       "  </tbody>\n",
       "</table>\n",
       "</div>"
      ],
      "text/plain": [
       "   age  job  marital  education  default  housing  loan  contact  month  \\\n",
       "0   56    3        1          0        0        0     0        1      6   \n",
       "1   57    7        1          3        1        0     0        1      6   \n",
       "2   37    7        1          3        0        2     0        1      6   \n",
       "3   40    0        1          1        0        0     0        1      6   \n",
       "4   56    7        1          3        0        0     2        1      6   \n",
       "\n",
       "   day_of_week  campaign  pdays  previous  poutcome  emp.var.rate  \\\n",
       "0            1         1    999         0         1           1.1   \n",
       "1            1         1    999         0         1           1.1   \n",
       "2            1         1    999         0         1           1.1   \n",
       "3            1         1    999         0         1           1.1   \n",
       "4            1         1    999         0         1           1.1   \n",
       "\n",
       "   cons.price.idx  cons.conf.idx  euribor3m  nr.employed  y  \n",
       "0          93.994          -36.4      4.857       5191.0  0  \n",
       "1          93.994          -36.4      4.857       5191.0  0  \n",
       "2          93.994          -36.4      4.857       5191.0  0  \n",
       "3          93.994          -36.4      4.857       5191.0  0  \n",
       "4          93.994          -36.4      4.857       5191.0  0  "
      ]
     },
     "execution_count": 41,
     "metadata": {},
     "output_type": "execute_result"
    }
   ],
   "source": [
    "cat_cols = df.select_dtypes(\"object\")\n",
    "from sklearn.preprocessing import LabelEncoder\n",
    "le = LabelEncoder()\n",
    "for i in cat_cols:\n",
    "    df[i]=le.fit_transform(df[i])\n",
    "df.head()"
   ]
  },
  {
   "cell_type": "markdown",
   "id": "0e816b3f",
   "metadata": {},
   "source": [
    "# Model Building"
   ]
  },
  {
   "cell_type": "code",
   "execution_count": 42,
   "id": "908a22be",
   "metadata": {},
   "outputs": [],
   "source": [
    "X = df.drop('y',axis =1)\n",
    "\n",
    "y = df['y']"
   ]
  },
  {
   "cell_type": "code",
   "execution_count": 43,
   "id": "422bcf39",
   "metadata": {},
   "outputs": [
    {
     "data": {
      "text/plain": [
       "0    36537\n",
       "1     4639\n",
       "Name: y, dtype: int64"
      ]
     },
     "execution_count": 43,
     "metadata": {},
     "output_type": "execute_result"
    }
   ],
   "source": [
    "y.value_counts()"
   ]
  },
  {
   "cell_type": "markdown",
   "id": "95943fd4",
   "metadata": {},
   "source": [
    "### Splitting our data"
   ]
  },
  {
   "cell_type": "code",
   "execution_count": 44,
   "id": "a3ffb9ed",
   "metadata": {},
   "outputs": [],
   "source": [
    "from sklearn.model_selection import train_test_split\n",
    "X_train, X_test, y_train, y_test = train_test_split(X, y, test_size=0.2, random_state=101,stratify=y)"
   ]
  },
  {
   "cell_type": "code",
   "execution_count": 45,
   "id": "9599395c",
   "metadata": {},
   "outputs": [
    {
     "name": "stdout",
     "output_type": "stream",
     "text": [
      "(32940, 19)\n",
      "(32940,)\n",
      "(8236, 19)\n",
      "(8236,)\n"
     ]
    }
   ],
   "source": [
    "print(X_train.shape)\n",
    "print(y_train.shape)\n",
    "print(X_test.shape)\n",
    "print(y_test.shape)"
   ]
  },
  {
   "cell_type": "markdown",
   "id": "e976d6a8",
   "metadata": {},
   "source": [
    "### Scaling the Data"
   ]
  },
  {
   "cell_type": "code",
   "execution_count": 46,
   "id": "01c1b0dc",
   "metadata": {},
   "outputs": [],
   "source": [
    "from sklearn.preprocessing import MinMaxScaler\n",
    "scaler = MinMaxScaler()\n",
    "\n",
    "X_train = scaler.fit_transform(X_train)\n",
    "X_test = scaler.transform(X_test)"
   ]
  },
  {
   "cell_type": "markdown",
   "id": "9944208c",
   "metadata": {},
   "source": [
    "### Handling our imbalanced dataset"
   ]
  },
  {
   "cell_type": "code",
   "execution_count": 47,
   "id": "769867b7",
   "metadata": {},
   "outputs": [
    {
     "name": "stdout",
     "output_type": "stream",
     "text": [
      "Before OverSampling, counts of label '1': 3711\n",
      "Before OverSampling, counts of label '0': 29229 \n",
      "\n"
     ]
    }
   ],
   "source": [
    "print(\"Before OverSampling, counts of label '1': {}\".format(sum(y_train == 1)))\n",
    "print(\"Before OverSampling, counts of label '0': {} \\n\".format(sum(y_train == 0)))"
   ]
  },
  {
   "cell_type": "markdown",
   "id": "8b3b5940",
   "metadata": {},
   "source": [
    "#### Applying SMOTE technique for oversampling"
   ]
  },
  {
   "cell_type": "code",
   "execution_count": 48,
   "id": "1f04c41d",
   "metadata": {},
   "outputs": [],
   "source": [
    "from imblearn.over_sampling import SMOTE\n",
    "smote = SMOTE(random_state = 2)\n",
    "X_train, y_train = smote.fit_resample(X_train, y_train)"
   ]
  },
  {
   "cell_type": "code",
   "execution_count": 49,
   "id": "d6a4e2dc",
   "metadata": {
    "scrolled": true
   },
   "outputs": [
    {
     "name": "stdout",
     "output_type": "stream",
     "text": [
      "After OverSampling, counts of label '1': 29229\n",
      "After OverSampling, counts of label '0': 29229 \n",
      "\n"
     ]
    }
   ],
   "source": [
    "print(\"After OverSampling, counts of label '1': {}\".format(sum(y_train == 1)))\n",
    "print(\"After OverSampling, counts of label '0': {} \\n\".format(sum(y_train == 0)))"
   ]
  },
  {
   "cell_type": "markdown",
   "id": "84c134c7",
   "metadata": {},
   "source": [
    "## Fitting Classfication Models"
   ]
  },
  {
   "cell_type": "code",
   "execution_count": 50,
   "id": "bd28ac09",
   "metadata": {},
   "outputs": [
    {
     "data": {
      "text/html": [
       "<div>\n",
       "<style scoped>\n",
       "    .dataframe tbody tr th:only-of-type {\n",
       "        vertical-align: middle;\n",
       "    }\n",
       "\n",
       "    .dataframe tbody tr th {\n",
       "        vertical-align: top;\n",
       "    }\n",
       "\n",
       "    .dataframe thead th {\n",
       "        text-align: right;\n",
       "    }\n",
       "</style>\n",
       "<table border=\"1\" class=\"dataframe\">\n",
       "  <thead>\n",
       "    <tr style=\"text-align: right;\">\n",
       "      <th></th>\n",
       "      <th>Model</th>\n",
       "      <th>Accuracy</th>\n",
       "      <th>Precision</th>\n",
       "      <th>Recall</th>\n",
       "      <th>F1-score</th>\n",
       "      <th>Mean</th>\n",
       "    </tr>\n",
       "  </thead>\n",
       "  <tbody>\n",
       "    <tr>\n",
       "      <th>2</th>\n",
       "      <td>Random Forest</td>\n",
       "      <td>0.886231</td>\n",
       "      <td>0.873793</td>\n",
       "      <td>0.886231</td>\n",
       "      <td>0.878739</td>\n",
       "      <td>0.881249</td>\n",
       "    </tr>\n",
       "    <tr>\n",
       "      <th>3</th>\n",
       "      <td>Gradient Boosting</td>\n",
       "      <td>0.877610</td>\n",
       "      <td>0.880840</td>\n",
       "      <td>0.877610</td>\n",
       "      <td>0.879167</td>\n",
       "      <td>0.878807</td>\n",
       "    </tr>\n",
       "    <tr>\n",
       "      <th>5</th>\n",
       "      <td>SVM</td>\n",
       "      <td>0.824186</td>\n",
       "      <td>0.878557</td>\n",
       "      <td>0.824186</td>\n",
       "      <td>0.844627</td>\n",
       "      <td>0.842889</td>\n",
       "    </tr>\n",
       "    <tr>\n",
       "      <th>1</th>\n",
       "      <td>Decision Tree</td>\n",
       "      <td>0.830986</td>\n",
       "      <td>0.845941</td>\n",
       "      <td>0.830986</td>\n",
       "      <td>0.837972</td>\n",
       "      <td>0.836471</td>\n",
       "    </tr>\n",
       "    <tr>\n",
       "      <th>0</th>\n",
       "      <td>Logistic Regression</td>\n",
       "      <td>0.803303</td>\n",
       "      <td>0.876885</td>\n",
       "      <td>0.803303</td>\n",
       "      <td>0.829917</td>\n",
       "      <td>0.828352</td>\n",
       "    </tr>\n",
       "    <tr>\n",
       "      <th>6</th>\n",
       "      <td>KNN</td>\n",
       "      <td>0.769791</td>\n",
       "      <td>0.855963</td>\n",
       "      <td>0.769791</td>\n",
       "      <td>0.802439</td>\n",
       "      <td>0.799496</td>\n",
       "    </tr>\n",
       "    <tr>\n",
       "      <th>4</th>\n",
       "      <td>Gaussian Naive Bayes</td>\n",
       "      <td>0.743565</td>\n",
       "      <td>0.871515</td>\n",
       "      <td>0.743565</td>\n",
       "      <td>0.786471</td>\n",
       "      <td>0.786279</td>\n",
       "    </tr>\n",
       "  </tbody>\n",
       "</table>\n",
       "</div>"
      ],
      "text/plain": [
       "                  Model  Accuracy  Precision    Recall  F1-score      Mean\n",
       "2         Random Forest  0.886231   0.873793  0.886231  0.878739  0.881249\n",
       "3     Gradient Boosting  0.877610   0.880840  0.877610  0.879167  0.878807\n",
       "5                   SVM  0.824186   0.878557  0.824186  0.844627  0.842889\n",
       "1         Decision Tree  0.830986   0.845941  0.830986  0.837972  0.836471\n",
       "0   Logistic Regression  0.803303   0.876885  0.803303  0.829917  0.828352\n",
       "6                   KNN  0.769791   0.855963  0.769791  0.802439  0.799496\n",
       "4  Gaussian Naive Bayes  0.743565   0.871515  0.743565  0.786471  0.786279"
      ]
     },
     "execution_count": 50,
     "metadata": {},
     "output_type": "execute_result"
    }
   ],
   "source": [
    "import pandas as pd\n",
    "from sklearn.metrics import accuracy_score, precision_score, recall_score, f1_score\n",
    "from sklearn.model_selection import train_test_split\n",
    "from sklearn.linear_model import LogisticRegression\n",
    "from sklearn.tree import DecisionTreeClassifier\n",
    "from sklearn.ensemble import RandomForestClassifier, GradientBoostingClassifier\n",
    "from sklearn.naive_bayes import GaussianNB\n",
    "from sklearn.svm import SVC\n",
    "from sklearn.neighbors import KNeighborsClassifier\n",
    "\n",
    "# Define the models to evaluate\n",
    "models = [\n",
    "    ('Logistic Regression', LogisticRegression()),\n",
    "    ('Decision Tree', DecisionTreeClassifier()),\n",
    "    ('Random Forest', RandomForestClassifier()),\n",
    "    ('Gradient Boosting', GradientBoostingClassifier()),\n",
    "    ('Gaussian Naive Bayes', GaussianNB()),\n",
    "    ('SVM', SVC()),\n",
    "    ('KNN', KNeighborsClassifier())\n",
    "]\n",
    "\n",
    "# Create an empty DataFrame to store the evaluation metrics\n",
    "metrics_df = pd.DataFrame(columns=['Model', 'Accuracy', 'Precision', 'Recall', 'F1-score'])\n",
    "# Evaluate each model \n",
    "for name, model in models:\n",
    "    model.fit(X_train, y_train)\n",
    "    y_pred = model.predict(X_test)\n",
    "    accuracy = accuracy_score(y_test, y_pred)\n",
    "    precision = precision_score(y_test, y_pred, average='weighted')\n",
    "    recall = recall_score(y_test, y_pred, average='weighted')\n",
    "    f1 = f1_score(y_test, y_pred, average='weighted')\n",
    "    metrics_df = metrics_df.append({'Model': name, 'Accuracy': accuracy, 'Precision': precision, 'Recall': recall, 'F1-score': f1}, ignore_index=True)\n",
    "# Print the evaluation metrics DataFrame\n",
    "metrics_df['Mean'] = (metrics_df[\"Accuracy\"] + metrics_df[\"Precision\"] + metrics_df[\"Recall\"] + metrics_df[\"F1-score\"])/4\n",
    "metrics_df.sort_values(by=['Mean'],ascending=False)\n"
   ]
  },
  {
   "cell_type": "markdown",
   "id": "ea39c9bd",
   "metadata": {},
   "source": [
    "## Predicting with best Classification Model"
   ]
  },
  {
   "cell_type": "code",
   "execution_count": 51,
   "id": "50bdb9de",
   "metadata": {},
   "outputs": [],
   "source": [
    "from sklearn.ensemble import RandomForestClassifier\n",
    "rfc = RandomForestClassifier()\n",
    "rfc.fit(X_train, y_train)\n",
    "y_pred = rfc.predict(X_test)"
   ]
  },
  {
   "cell_type": "markdown",
   "id": "0027b016",
   "metadata": {},
   "source": [
    "## Evaluating best Classification Model"
   ]
  },
  {
   "cell_type": "code",
   "execution_count": 52,
   "id": "3b21de46",
   "metadata": {},
   "outputs": [
    {
     "name": "stdout",
     "output_type": "stream",
     "text": [
      "              precision    recall  f1-score   support\n",
      "\n",
      "           0       0.92      0.95      0.94      7308\n",
      "           1       0.50      0.38      0.43       928\n",
      "\n",
      "    accuracy                           0.89      8236\n",
      "   macro avg       0.71      0.67      0.68      8236\n",
      "weighted avg       0.88      0.89      0.88      8236\n",
      "\n"
     ]
    }
   ],
   "source": [
    "from sklearn.metrics import plot_confusion_matrix,classification_report\n",
    "print(classification_report(y_test,y_pred))"
   ]
  },
  {
   "cell_type": "markdown",
   "id": "82e728fd",
   "metadata": {},
   "source": [
    "**We are getting overall accuracy score of 88 - 90 %**"
   ]
  },
  {
   "cell_type": "code",
   "execution_count": 53,
   "id": "f16f77ca",
   "metadata": {},
   "outputs": [
    {
     "data": {
      "image/png": "[encoded data removed]",
      "text/plain": [
       "<Figure size 720x576 with 2 Axes>"
      ]
     },
     "metadata": {
      "needs_background": "light"
     },
     "output_type": "display_data"
    }
   ],
   "source": [
    "fig, ax = plt.subplots(figsize=(10, 8))\n",
    "plot_confusion_matrix(rfc, X_test, y_test, ax=ax)\n",
    "plt.show()"
   ]
  },
  {
   "cell_type": "markdown",
   "id": "9f9b6740",
   "metadata": {},
   "source": [
    "**Our Insights:**\n",
    "\n",
    "1) We see that our True Positive and True Negative figures are generally predicting well.\n",
    "\n",
    "2) We should try to improve our False Negative figures to try to give more accurate predictions\n"
   ]
  },
  {
   "cell_type": "markdown",
   "id": "ecc51473",
   "metadata": {},
   "source": [
    "### Checking for overfitting using cross validation scores"
   ]
  },
  {
   "cell_type": "code",
   "execution_count": 54,
   "id": "8940bd75",
   "metadata": {
    "scrolled": true
   },
   "outputs": [
    {
     "data": {
      "text/html": [
       "<div>\n",
       "<style scoped>\n",
       "    .dataframe tbody tr th:only-of-type {\n",
       "        vertical-align: middle;\n",
       "    }\n",
       "\n",
       "    .dataframe tbody tr th {\n",
       "        vertical-align: top;\n",
       "    }\n",
       "\n",
       "    .dataframe thead th {\n",
       "        text-align: right;\n",
       "    }\n",
       "</style>\n",
       "<table border=\"1\" class=\"dataframe\">\n",
       "  <thead>\n",
       "    <tr style=\"text-align: right;\">\n",
       "      <th></th>\n",
       "      <th>Training_Score</th>\n",
       "      <th>Testing_Score</th>\n",
       "    </tr>\n",
       "  </thead>\n",
       "  <tbody>\n",
       "    <tr>\n",
       "      <th>mean</th>\n",
       "      <td>0.937306</td>\n",
       "      <td>0.892909</td>\n",
       "    </tr>\n",
       "    <tr>\n",
       "      <th>std</th>\n",
       "      <td>0.063907</td>\n",
       "      <td>0.003923</td>\n",
       "    </tr>\n",
       "  </tbody>\n",
       "</table>\n",
       "</div>"
      ],
      "text/plain": [
       "      Training_Score  Testing_Score\n",
       "mean        0.937306       0.892909\n",
       "std         0.063907       0.003923"
      ]
     },
     "execution_count": 54,
     "metadata": {},
     "output_type": "execute_result"
    }
   ],
   "source": [
    "from sklearn.model_selection import cross_val_score\n",
    "from sklearn.ensemble import RandomForestClassifier\n",
    "\n",
    "\n",
    "# Define the logistic regression model\n",
    "model = RandomForestClassifier(random_state = 102)\n",
    "\n",
    "# Evaluate the model using cross-validation\n",
    "train_scores = cross_val_score(model, X_train, y_train, cv=5)\n",
    "test_scores = cross_val_score(model, X_test, y_test, cv=5)\n",
    "\n",
    "\n",
    "scores_df = pd.DataFrame({\n",
    "    'Training_Score': [train_scores.mean(), train_scores.std()],\n",
    "    'Testing_Score': [test_scores.mean(), test_scores.std()]\n",
    "}, index=['mean', 'std'])\n",
    "\n",
    "scores_df\n"
   ]
  },
  {
   "cell_type": "markdown",
   "id": "844ec277",
   "metadata": {},
   "source": [
    "**Our Findings:**\n",
    "\n",
    "Since the training score and testing score using cross_val_score is very close to each other so we may conclude that the model is generally not overfitting"
   ]
  },
  {
   "cell_type": "markdown",
   "id": "024bbb40",
   "metadata": {},
   "source": [
    "## Using Artificial Neural Network"
   ]
  },
  {
   "cell_type": "code",
   "execution_count": 55,
   "id": "e2e64b8f",
   "metadata": {},
   "outputs": [
    {
     "name": "stdout",
     "output_type": "stream",
     "text": [
      "Epoch 1/50\n",
      "1827/1827 [==============================] - 11s 5ms/step - loss: 0.5742 - accuracy: 0.7157 - val_loss: 0.5281 - val_accuracy: 0.8136\n",
      "Epoch 2/50\n",
      "1827/1827 [==============================] - 7s 4ms/step - loss: 0.5561 - accuracy: 0.7325 - val_loss: 0.5078 - val_accuracy: 0.8100\n",
      "Epoch 3/50\n",
      "1827/1827 [==============================] - 7s 4ms/step - loss: 0.5515 - accuracy: 0.7367 - val_loss: 0.5266 - val_accuracy: 0.8173\n",
      "Epoch 4/50\n",
      "1827/1827 [==============================] - 7s 4ms/step - loss: 0.5497 - accuracy: 0.7370 - val_loss: 0.5097 - val_accuracy: 0.8146\n",
      "Epoch 5/50\n",
      "1827/1827 [==============================] - 8s 4ms/step - loss: 0.5457 - accuracy: 0.7384 - val_loss: 0.5358 - val_accuracy: 0.8052\n",
      "Epoch 6/50\n",
      "1827/1827 [==============================] - 7s 4ms/step - loss: 0.5448 - accuracy: 0.7402 - val_loss: 0.5108 - val_accuracy: 0.8108\n",
      "Epoch 7/50\n",
      "1827/1827 [==============================] - 7s 4ms/step - loss: 0.5419 - accuracy: 0.7416 - val_loss: 0.4872 - val_accuracy: 0.8317\n",
      "Epoch 8/50\n",
      "1827/1827 [==============================] - 7s 4ms/step - loss: 0.5399 - accuracy: 0.7415 - val_loss: 0.5236 - val_accuracy: 0.8091\n",
      "Epoch 9/50\n",
      "1827/1827 [==============================] - 8s 4ms/step - loss: 0.5387 - accuracy: 0.7430 - val_loss: 0.5131 - val_accuracy: 0.8209\n",
      "Epoch 10/50\n",
      "1827/1827 [==============================] - 8s 4ms/step - loss: 0.5382 - accuracy: 0.7434 - val_loss: 0.5034 - val_accuracy: 0.8164\n",
      "Epoch 11/50\n",
      "1827/1827 [==============================] - 8s 4ms/step - loss: 0.5366 - accuracy: 0.7426 - val_loss: 0.5118 - val_accuracy: 0.8235\n",
      "Epoch 12/50\n",
      "1827/1827 [==============================] - 12s 6ms/step - loss: 0.5358 - accuracy: 0.7427 - val_loss: 0.4872 - val_accuracy: 0.8312\n",
      "Epoch 13/50\n",
      "1827/1827 [==============================] - 10s 5ms/step - loss: 0.5339 - accuracy: 0.7439 - val_loss: 0.4908 - val_accuracy: 0.8270\n",
      "Epoch 14/50\n",
      "1827/1827 [==============================] - 9s 5ms/step - loss: 0.5329 - accuracy: 0.7432 - val_loss: 0.5220 - val_accuracy: 0.8133\n",
      "Epoch 15/50\n",
      "1827/1827 [==============================] - 13s 7ms/step - loss: 0.5324 - accuracy: 0.7446 - val_loss: 0.5094 - val_accuracy: 0.8340\n",
      "Epoch 16/50\n",
      "1827/1827 [==============================] - 12s 6ms/step - loss: 0.5305 - accuracy: 0.7454 - val_loss: 0.4953 - val_accuracy: 0.8164\n",
      "Epoch 17/50\n",
      "1827/1827 [==============================] - 12s 6ms/step - loss: 0.5298 - accuracy: 0.7467 - val_loss: 0.5337 - val_accuracy: 0.8111\n",
      "Epoch 18/50\n",
      "1827/1827 [==============================] - 9s 5ms/step - loss: 0.5289 - accuracy: 0.7465 - val_loss: 0.4905 - val_accuracy: 0.8238\n",
      "Epoch 19/50\n",
      "1827/1827 [==============================] - 10s 5ms/step - loss: 0.5288 - accuracy: 0.7466 - val_loss: 0.5196 - val_accuracy: 0.8202\n",
      "Epoch 20/50\n",
      "1827/1827 [==============================] - 8s 4ms/step - loss: 0.5272 - accuracy: 0.7466 - val_loss: 0.5062 - val_accuracy: 0.8140\n",
      "Epoch 21/50\n",
      "1827/1827 [==============================] - 8s 4ms/step - loss: 0.5277 - accuracy: 0.7483 - val_loss: 0.4959 - val_accuracy: 0.8273\n",
      "Epoch 22/50\n",
      "1827/1827 [==============================] - 7s 4ms/step - loss: 0.5280 - accuracy: 0.7483 - val_loss: 0.5137 - val_accuracy: 0.8181\n",
      "Epoch 22: early stopping\n",
      "258/258 [==============================] - 1s 3ms/step - loss: 0.5137 - accuracy: 0.8181\n"
     ]
    }
   ],
   "source": [
    "from tensorflow.keras.models import Sequential\n",
    "from tensorflow.keras.layers import Dense, Dropout\n",
    "from tensorflow.keras.callbacks import EarlyStopping\n",
    "\n",
    "# Define the model\n",
    "model = Sequential()\n",
    "model.add(Dense(64, input_dim=X_train.shape[1], activation='relu'))\n",
    "model.add(Dropout(0.5))\n",
    "model.add(Dense(32, activation='relu'))\n",
    "model.add(Dropout(0.5))\n",
    "model.add(Dense(1, activation='sigmoid'))\n",
    "\n",
    "# Compile the model\n",
    "model.compile(loss='binary_crossentropy', optimizer='adam', metrics=['accuracy'])\n",
    "\n",
    "# Define early stopping\n",
    "early_stopping = EarlyStopping(monitor='val_loss', patience=10, verbose=1)\n",
    "\n",
    "# Train the model\n",
    "history = model.fit(X_train, y_train, epochs=50, batch_size=32, validation_data=(X_test, y_test), callbacks=[early_stopping])\n",
    "\n",
    "# Evaluate the model\n",
    "test_loss, test_acc = model.evaluate(X_test, y_test)\n"
   ]
  },
  {
   "cell_type": "code",
   "execution_count": 56,
   "id": "a46eb088",
   "metadata": {},
   "outputs": [
    {
     "data": {
      "text/plain": [
       "(0.5137053728103638, 0.8181155920028687)"
      ]
     },
     "execution_count": 56,
     "metadata": {},
     "output_type": "execute_result"
    }
   ],
   "source": [
    "test_loss, test_acc"
   ]
  },
  {
   "cell_type": "code",
   "execution_count": 57,
   "id": "cadcd1d0",
   "metadata": {},
   "outputs": [
    {
     "name": "stdout",
     "output_type": "stream",
     "text": [
      "258/258 [==============================] - 1s 2ms/step\n"
     ]
    }
   ],
   "source": [
    "y_pred_ann = model.predict(X_test)"
   ]
  },
  {
   "cell_type": "code",
   "execution_count": 58,
   "id": "e3f1dad8",
   "metadata": {
    "scrolled": true
   },
   "outputs": [],
   "source": [
    "threshold = 0.5\n",
    "y_pred_ann = (y_pred_ann >= threshold).astype(int)"
   ]
  },
  {
   "cell_type": "code",
   "execution_count": 59,
   "id": "fd9bf8cc",
   "metadata": {},
   "outputs": [
    {
     "name": "stdout",
     "output_type": "stream",
     "text": [
      "              precision    recall  f1-score   support\n",
      "\n",
      "           0       0.95      0.84      0.89      7308\n",
      "           1       0.34      0.63      0.44       928\n",
      "\n",
      "    accuracy                           0.82      8236\n",
      "   macro avg       0.64      0.74      0.67      8236\n",
      "weighted avg       0.88      0.82      0.84      8236\n",
      "\n"
     ]
    }
   ],
   "source": [
    "from sklearn.metrics import plot_confusion_matrix,classification_report\n",
    "print(classification_report(y_test,y_pred_ann))"
   ]
  },
  {
   "cell_type": "markdown",
   "id": "813b64d7",
   "metadata": {},
   "source": [
    "**Our Insights:**\n",
    "\n",
    "1) ANN is giving us less accuracy score than Random forest classifier\n",
    "\n",
    "2) Due to model complexity and data imbalanced our ANN model is not performing as well as other classification models."
   ]
  },
  {
   "cell_type": "markdown",
   "id": "953d69f2",
   "metadata": {},
   "source": [
    "### Hyperparameter tuning final model"
   ]
  },
  {
   "cell_type": "code",
   "execution_count": 60,
   "id": "151a136f",
   "metadata": {},
   "outputs": [
    {
     "name": "stdout",
     "output_type": "stream",
     "text": [
      "Best parameters: {'n_estimators': 500, 'min_samples_split': 5, 'min_samples_leaf': 1, 'max_features': 'log2'}\n"
     ]
    }
   ],
   "source": [
    "from sklearn.ensemble import RandomForestClassifier\n",
    "from sklearn.model_selection import RandomizedSearchCV\n",
    "\n",
    "# Create a Random Forest Classifier object\n",
    "rfc_model = RandomForestClassifier()\n",
    "\n",
    "# Define the parameter distributions to search over\n",
    "param_dist = {'n_estimators': [100, 200, 500],\n",
    "              'max_features': ['sqrt', 'log2'],\n",
    "              'min_samples_leaf': [1, 5, 10],\n",
    "              'min_samples_split': [2, 5, 10]}\n",
    "\n",
    "# Create a RandomizedSearchCV object\n",
    "random_search = RandomizedSearchCV(estimator=rfc_model,\n",
    "                                   param_distributions=param_dist,\n",
    "                                   n_iter=10,\n",
    "                                   cv=3,\n",
    "                                   random_state=42)\n",
    "\n",
    "# Fit the RandomizedSearchCV object to the data\n",
    "random_search.fit(X_train, y_train)\n",
    "\n",
    "# Print the best parameters found\n",
    "print('Best parameters:', random_search.best_params_)\n",
    "\n",
    "# Train the Random Forest Classifier with the best hyperparameters\n",
    "rfc_model.set_params(**random_search.best_params_)\n",
    "rfc_model.fit(X_train, y_train)\n",
    "\n",
    "# Make predictions on the test set\n",
    "y_pred = rfc_model.predict(X_test)\n"
   ]
  },
  {
   "cell_type": "code",
   "execution_count": 61,
   "id": "6a4706c2",
   "metadata": {},
   "outputs": [
    {
     "name": "stdout",
     "output_type": "stream",
     "text": [
      "              precision    recall  f1-score   support\n",
      "\n",
      "           0       0.92      0.96      0.94      7308\n",
      "           1       0.54      0.39      0.45       928\n",
      "\n",
      "    accuracy                           0.89      8236\n",
      "   macro avg       0.73      0.67      0.70      8236\n",
      "weighted avg       0.88      0.89      0.89      8236\n",
      "\n"
     ]
    }
   ],
   "source": [
    "from sklearn.metrics import plot_confusion_matrix,classification_report\n",
    "print(classification_report(y_test,y_pred))"
   ]
  },
  {
   "cell_type": "markdown",
   "id": "bb9135eb",
   "metadata": {},
   "source": [
    "## Testing final model with previously unseen data"
   ]
  },
  {
   "cell_type": "code",
   "execution_count": 62,
   "id": "9792b336",
   "metadata": {},
   "outputs": [
    {
     "data": {
      "text/html": [
       "<div>\n",
       "<style scoped>\n",
       "    .dataframe tbody tr th:only-of-type {\n",
       "        vertical-align: middle;\n",
       "    }\n",
       "\n",
       "    .dataframe tbody tr th {\n",
       "        vertical-align: top;\n",
       "    }\n",
       "\n",
       "    .dataframe thead th {\n",
       "        text-align: right;\n",
       "    }\n",
       "</style>\n",
       "<table border=\"1\" class=\"dataframe\">\n",
       "  <thead>\n",
       "    <tr style=\"text-align: right;\">\n",
       "      <th></th>\n",
       "      <th>age</th>\n",
       "      <th>job</th>\n",
       "      <th>marital</th>\n",
       "      <th>education</th>\n",
       "      <th>default</th>\n",
       "      <th>housing</th>\n",
       "      <th>loan</th>\n",
       "      <th>contact</th>\n",
       "      <th>month</th>\n",
       "      <th>day_of_week</th>\n",
       "      <th>campaign</th>\n",
       "      <th>pdays</th>\n",
       "      <th>previous</th>\n",
       "      <th>poutcome</th>\n",
       "      <th>emp.var.rate</th>\n",
       "      <th>cons.price.idx</th>\n",
       "      <th>cons.conf.idx</th>\n",
       "      <th>euribor3m</th>\n",
       "      <th>nr.employed</th>\n",
       "    </tr>\n",
       "  </thead>\n",
       "  <tbody>\n",
       "    <tr>\n",
       "      <th>19796</th>\n",
       "      <td>51</td>\n",
       "      <td>0</td>\n",
       "      <td>0</td>\n",
       "      <td>3</td>\n",
       "      <td>0</td>\n",
       "      <td>0</td>\n",
       "      <td>0</td>\n",
       "      <td>0</td>\n",
       "      <td>1</td>\n",
       "      <td>0</td>\n",
       "      <td>1</td>\n",
       "      <td>999</td>\n",
       "      <td>0</td>\n",
       "      <td>1</td>\n",
       "      <td>1.4</td>\n",
       "      <td>93.444</td>\n",
       "      <td>-36.1</td>\n",
       "      <td>4.966</td>\n",
       "      <td>5228.1</td>\n",
       "    </tr>\n",
       "  </tbody>\n",
       "</table>\n",
       "</div>"
      ],
      "text/plain": [
       "       age  job  marital  education  default  housing  loan  contact  month  \\\n",
       "19796   51    0        0          3        0        0     0        0      1   \n",
       "\n",
       "       day_of_week  campaign  pdays  previous  poutcome  emp.var.rate  \\\n",
       "19796            0         1    999         0         1           1.4   \n",
       "\n",
       "       cons.price.idx  cons.conf.idx  euribor3m  nr.employed  \n",
       "19796          93.444          -36.1      4.966       5228.1  "
      ]
     },
     "execution_count": 62,
     "metadata": {},
     "output_type": "execute_result"
    }
   ],
   "source": [
    "X1 = X.sample(1)\n",
    "X1.head()"
   ]
  },
  {
   "cell_type": "code",
   "execution_count": 63,
   "id": "b37d7138",
   "metadata": {
    "scrolled": true
   },
   "outputs": [
    {
     "data": {
      "text/plain": [
       "0"
      ]
     },
     "execution_count": 63,
     "metadata": {},
     "output_type": "execute_result"
    }
   ],
   "source": [
    "y1 = y[X1.index].values[0]\n",
    "y1"
   ]
  },
  {
   "cell_type": "code",
   "execution_count": 64,
   "id": "63d9223b",
   "metadata": {},
   "outputs": [],
   "source": [
    "classes = ''\n",
    "\n",
    "if y1 ==1:\n",
    "    classes = 'has subscribed to term deposit'\n",
    "else:\n",
    "    classes = 'has not subscribed to term deposit'"
   ]
  },
  {
   "cell_type": "markdown",
   "id": "74f66cab",
   "metadata": {},
   "source": [
    "### Scaling our sample data"
   ]
  },
  {
   "cell_type": "code",
   "execution_count": 65,
   "id": "e44e3953",
   "metadata": {},
   "outputs": [
    {
     "data": {
      "text/plain": [
       "array([[0.41975309, 0.        , 0.        , 0.42857143, 0.        ,\n",
       "        0.        , 0.        , 0.        , 0.11111111, 0.        ,\n",
       "        0.        , 1.        , 0.        , 0.5       , 1.        ,\n",
       "        0.48441154, 0.61506276, 0.98209023, 1.        ]])"
      ]
     },
     "execution_count": 65,
     "metadata": {},
     "output_type": "execute_result"
    }
   ],
   "source": [
    "from sklearn.preprocessing import MinMaxScaler\n",
    "\n",
    "# Scale the sample data\n",
    "sample_scaled = scaler.transform(X1)\n",
    "sample_scaled"
   ]
  },
  {
   "cell_type": "markdown",
   "id": "036650c2",
   "metadata": {},
   "source": [
    "### Fitting and Predicting with trained model"
   ]
  },
  {
   "cell_type": "code",
   "execution_count": 66,
   "id": "02ece585",
   "metadata": {},
   "outputs": [],
   "source": [
    "rfc_model.fit(X_train,y_train)\n",
    "model_pred = rfc_model.predict(sample_scaled)"
   ]
  },
  {
   "cell_type": "code",
   "execution_count": 67,
   "id": "60594d0e",
   "metadata": {},
   "outputs": [],
   "source": [
    "correct = ''\n",
    "if model_pred[0] == y1:\n",
    "    correct = 'correctly'\n",
    "else:\n",
    "    correct = 'incorrectly'"
   ]
  },
  {
   "cell_type": "code",
   "execution_count": 68,
   "id": "d0dc1d88",
   "metadata": {},
   "outputs": [
    {
     "name": "stdout",
     "output_type": "stream",
     "text": [
      "Our model is predicting the output to be of class 0 and our actual output is class 0. That means based on the features provided our model has correctly predicted that the customer has not subscribed to term deposit\n"
     ]
    }
   ],
   "source": [
    "print(f\"Our model is predicting the output to be of class {model_pred[0]} and our actual output is class {y1}. That means based on the features provided our model has {correct} predicted that the customer {classes}\")"
   ]
  },
  {
   "cell_type": "markdown",
   "id": "2cbc256e",
   "metadata": {},
   "source": [
    "# Task3:-Suggestions to the Bank market team to make  customers  buy the product."
   ]
  },
  {
   "cell_type": "markdown",
   "id": "0789914f",
   "metadata": {},
   "source": [
    "For this task we will download a fresh copy of the dataset and try to to group similar customers using KMeans clustering algorithms; we will find the important features with respect to the clusters and find out the which customers to target for marketing"
   ]
  },
  {
   "cell_type": "code",
   "execution_count": 69,
   "id": "65d7a735",
   "metadata": {},
   "outputs": [
    {
     "data": {
      "text/html": [
       "<div>\n",
       "<style scoped>\n",
       "    .dataframe tbody tr th:only-of-type {\n",
       "        vertical-align: middle;\n",
       "    }\n",
       "\n",
       "    .dataframe tbody tr th {\n",
       "        vertical-align: top;\n",
       "    }\n",
       "\n",
       "    .dataframe thead th {\n",
       "        text-align: right;\n",
       "    }\n",
       "</style>\n",
       "<table border=\"1\" class=\"dataframe\">\n",
       "  <thead>\n",
       "    <tr style=\"text-align: right;\">\n",
       "      <th></th>\n",
       "      <th>age</th>\n",
       "      <th>job</th>\n",
       "      <th>marital</th>\n",
       "      <th>education</th>\n",
       "      <th>default</th>\n",
       "      <th>housing</th>\n",
       "      <th>loan</th>\n",
       "      <th>contact</th>\n",
       "      <th>month</th>\n",
       "      <th>day_of_week</th>\n",
       "      <th>duration</th>\n",
       "      <th>campaign</th>\n",
       "      <th>pdays</th>\n",
       "      <th>previous</th>\n",
       "      <th>poutcome</th>\n",
       "      <th>emp.var.rate</th>\n",
       "      <th>cons.price.idx</th>\n",
       "      <th>cons.conf.idx</th>\n",
       "      <th>euribor3m</th>\n",
       "      <th>nr.employed</th>\n",
       "      <th>y</th>\n",
       "    </tr>\n",
       "  </thead>\n",
       "  <tbody>\n",
       "    <tr>\n",
       "      <th>0</th>\n",
       "      <td>56</td>\n",
       "      <td>housemaid</td>\n",
       "      <td>married</td>\n",
       "      <td>basic.4y</td>\n",
       "      <td>no</td>\n",
       "      <td>no</td>\n",
       "      <td>no</td>\n",
       "      <td>telephone</td>\n",
       "      <td>may</td>\n",
       "      <td>mon</td>\n",
       "      <td>261</td>\n",
       "      <td>1</td>\n",
       "      <td>999</td>\n",
       "      <td>0</td>\n",
       "      <td>nonexistent</td>\n",
       "      <td>1.1</td>\n",
       "      <td>93.994</td>\n",
       "      <td>-36.4</td>\n",
       "      <td>4.857</td>\n",
       "      <td>5191.0</td>\n",
       "      <td>no</td>\n",
       "    </tr>\n",
       "    <tr>\n",
       "      <th>1</th>\n",
       "      <td>57</td>\n",
       "      <td>services</td>\n",
       "      <td>married</td>\n",
       "      <td>high.school</td>\n",
       "      <td>unknown</td>\n",
       "      <td>no</td>\n",
       "      <td>no</td>\n",
       "      <td>telephone</td>\n",
       "      <td>may</td>\n",
       "      <td>mon</td>\n",
       "      <td>149</td>\n",
       "      <td>1</td>\n",
       "      <td>999</td>\n",
       "      <td>0</td>\n",
       "      <td>nonexistent</td>\n",
       "      <td>1.1</td>\n",
       "      <td>93.994</td>\n",
       "      <td>-36.4</td>\n",
       "      <td>4.857</td>\n",
       "      <td>5191.0</td>\n",
       "      <td>no</td>\n",
       "    </tr>\n",
       "    <tr>\n",
       "      <th>2</th>\n",
       "      <td>37</td>\n",
       "      <td>services</td>\n",
       "      <td>married</td>\n",
       "      <td>high.school</td>\n",
       "      <td>no</td>\n",
       "      <td>yes</td>\n",
       "      <td>no</td>\n",
       "      <td>telephone</td>\n",
       "      <td>may</td>\n",
       "      <td>mon</td>\n",
       "      <td>226</td>\n",
       "      <td>1</td>\n",
       "      <td>999</td>\n",
       "      <td>0</td>\n",
       "      <td>nonexistent</td>\n",
       "      <td>1.1</td>\n",
       "      <td>93.994</td>\n",
       "      <td>-36.4</td>\n",
       "      <td>4.857</td>\n",
       "      <td>5191.0</td>\n",
       "      <td>no</td>\n",
       "    </tr>\n",
       "    <tr>\n",
       "      <th>3</th>\n",
       "      <td>40</td>\n",
       "      <td>admin.</td>\n",
       "      <td>married</td>\n",
       "      <td>basic.6y</td>\n",
       "      <td>no</td>\n",
       "      <td>no</td>\n",
       "      <td>no</td>\n",
       "      <td>telephone</td>\n",
       "      <td>may</td>\n",
       "      <td>mon</td>\n",
       "      <td>151</td>\n",
       "      <td>1</td>\n",
       "      <td>999</td>\n",
       "      <td>0</td>\n",
       "      <td>nonexistent</td>\n",
       "      <td>1.1</td>\n",
       "      <td>93.994</td>\n",
       "      <td>-36.4</td>\n",
       "      <td>4.857</td>\n",
       "      <td>5191.0</td>\n",
       "      <td>no</td>\n",
       "    </tr>\n",
       "    <tr>\n",
       "      <th>4</th>\n",
       "      <td>56</td>\n",
       "      <td>services</td>\n",
       "      <td>married</td>\n",
       "      <td>high.school</td>\n",
       "      <td>no</td>\n",
       "      <td>no</td>\n",
       "      <td>yes</td>\n",
       "      <td>telephone</td>\n",
       "      <td>may</td>\n",
       "      <td>mon</td>\n",
       "      <td>307</td>\n",
       "      <td>1</td>\n",
       "      <td>999</td>\n",
       "      <td>0</td>\n",
       "      <td>nonexistent</td>\n",
       "      <td>1.1</td>\n",
       "      <td>93.994</td>\n",
       "      <td>-36.4</td>\n",
       "      <td>4.857</td>\n",
       "      <td>5191.0</td>\n",
       "      <td>no</td>\n",
       "    </tr>\n",
       "  </tbody>\n",
       "</table>\n",
       "</div>"
      ],
      "text/plain": [
       "   age        job  marital    education  default housing loan    contact  \\\n",
       "0   56  housemaid  married     basic.4y       no      no   no  telephone   \n",
       "1   57   services  married  high.school  unknown      no   no  telephone   \n",
       "2   37   services  married  high.school       no     yes   no  telephone   \n",
       "3   40     admin.  married     basic.6y       no      no   no  telephone   \n",
       "4   56   services  married  high.school       no      no  yes  telephone   \n",
       "\n",
       "  month day_of_week  duration  campaign  pdays  previous     poutcome  \\\n",
       "0   may         mon       261         1    999         0  nonexistent   \n",
       "1   may         mon       149         1    999         0  nonexistent   \n",
       "2   may         mon       226         1    999         0  nonexistent   \n",
       "3   may         mon       151         1    999         0  nonexistent   \n",
       "4   may         mon       307         1    999         0  nonexistent   \n",
       "\n",
       "   emp.var.rate  cons.price.idx  cons.conf.idx  euribor3m  nr.employed   y  \n",
       "0           1.1          93.994          -36.4      4.857       5191.0  no  \n",
       "1           1.1          93.994          -36.4      4.857       5191.0  no  \n",
       "2           1.1          93.994          -36.4      4.857       5191.0  no  \n",
       "3           1.1          93.994          -36.4      4.857       5191.0  no  \n",
       "4           1.1          93.994          -36.4      4.857       5191.0  no  "
      ]
     },
     "execution_count": 69,
     "metadata": {},
     "output_type": "execute_result"
    }
   ],
   "source": [
    "df = pd.read_csv('bank-additional-full.csv', sep=';')\n",
    "df.head()"
   ]
  },
  {
   "cell_type": "markdown",
   "id": "4e3e1c38",
   "metadata": {},
   "source": [
    "We will drop duration column and remove duplicates"
   ]
  },
  {
   "cell_type": "code",
   "execution_count": 70,
   "id": "f4a3dc95",
   "metadata": {},
   "outputs": [],
   "source": [
    "df = df.drop_duplicates(keep='first')\n",
    "df=df.drop(['duration'],axis=1)"
   ]
  },
  {
   "cell_type": "markdown",
   "id": "d7f65694",
   "metadata": {},
   "source": [
    "#### One hot encoding our dataset"
   ]
  },
  {
   "cell_type": "code",
   "execution_count": 71,
   "id": "535d9ff2",
   "metadata": {},
   "outputs": [],
   "source": [
    "df2 = pd.get_dummies(data = df,drop_first=True)"
   ]
  },
  {
   "cell_type": "code",
   "execution_count": 72,
   "id": "19cea632",
   "metadata": {},
   "outputs": [
    {
     "data": {
      "text/html": [
       "<div>\n",
       "<style scoped>\n",
       "    .dataframe tbody tr th:only-of-type {\n",
       "        vertical-align: middle;\n",
       "    }\n",
       "\n",
       "    .dataframe tbody tr th {\n",
       "        vertical-align: top;\n",
       "    }\n",
       "\n",
       "    .dataframe thead th {\n",
       "        text-align: right;\n",
       "    }\n",
       "</style>\n",
       "<table border=\"1\" class=\"dataframe\">\n",
       "  <thead>\n",
       "    <tr style=\"text-align: right;\">\n",
       "      <th></th>\n",
       "      <th>age</th>\n",
       "      <th>campaign</th>\n",
       "      <th>pdays</th>\n",
       "      <th>previous</th>\n",
       "      <th>emp.var.rate</th>\n",
       "      <th>cons.price.idx</th>\n",
       "      <th>cons.conf.idx</th>\n",
       "      <th>euribor3m</th>\n",
       "      <th>nr.employed</th>\n",
       "      <th>job_blue-collar</th>\n",
       "      <th>job_entrepreneur</th>\n",
       "      <th>job_housemaid</th>\n",
       "      <th>job_management</th>\n",
       "      <th>job_retired</th>\n",
       "      <th>job_self-employed</th>\n",
       "      <th>job_services</th>\n",
       "      <th>job_student</th>\n",
       "      <th>job_technician</th>\n",
       "      <th>job_unemployed</th>\n",
       "      <th>job_unknown</th>\n",
       "      <th>marital_married</th>\n",
       "      <th>marital_single</th>\n",
       "      <th>marital_unknown</th>\n",
       "      <th>education_basic.6y</th>\n",
       "      <th>education_basic.9y</th>\n",
       "      <th>education_high.school</th>\n",
       "      <th>education_illiterate</th>\n",
       "      <th>education_professional.course</th>\n",
       "      <th>education_university.degree</th>\n",
       "      <th>education_unknown</th>\n",
       "      <th>default_unknown</th>\n",
       "      <th>default_yes</th>\n",
       "      <th>housing_unknown</th>\n",
       "      <th>housing_yes</th>\n",
       "      <th>loan_unknown</th>\n",
       "      <th>loan_yes</th>\n",
       "      <th>contact_telephone</th>\n",
       "      <th>month_aug</th>\n",
       "      <th>month_dec</th>\n",
       "      <th>month_jul</th>\n",
       "      <th>month_jun</th>\n",
       "      <th>month_mar</th>\n",
       "      <th>month_may</th>\n",
       "      <th>month_nov</th>\n",
       "      <th>month_oct</th>\n",
       "      <th>month_sep</th>\n",
       "      <th>day_of_week_mon</th>\n",
       "      <th>day_of_week_thu</th>\n",
       "      <th>day_of_week_tue</th>\n",
       "      <th>day_of_week_wed</th>\n",
       "      <th>poutcome_nonexistent</th>\n",
       "      <th>poutcome_success</th>\n",
       "      <th>y_yes</th>\n",
       "    </tr>\n",
       "  </thead>\n",
       "  <tbody>\n",
       "    <tr>\n",
       "      <th>0</th>\n",
       "      <td>56</td>\n",
       "      <td>1</td>\n",
       "      <td>999</td>\n",
       "      <td>0</td>\n",
       "      <td>1.1</td>\n",
       "      <td>93.994</td>\n",
       "      <td>-36.4</td>\n",
       "      <td>4.857</td>\n",
       "      <td>5191.0</td>\n",
       "      <td>0</td>\n",
       "      <td>0</td>\n",
       "      <td>1</td>\n",
       "      <td>0</td>\n",
       "      <td>0</td>\n",
       "      <td>0</td>\n",
       "      <td>0</td>\n",
       "      <td>0</td>\n",
       "      <td>0</td>\n",
       "      <td>0</td>\n",
       "      <td>0</td>\n",
       "      <td>1</td>\n",
       "      <td>0</td>\n",
       "      <td>0</td>\n",
       "      <td>0</td>\n",
       "      <td>0</td>\n",
       "      <td>0</td>\n",
       "      <td>0</td>\n",
       "      <td>0</td>\n",
       "      <td>0</td>\n",
       "      <td>0</td>\n",
       "      <td>0</td>\n",
       "      <td>0</td>\n",
       "      <td>0</td>\n",
       "      <td>0</td>\n",
       "      <td>0</td>\n",
       "      <td>0</td>\n",
       "      <td>1</td>\n",
       "      <td>0</td>\n",
       "      <td>0</td>\n",
       "      <td>0</td>\n",
       "      <td>0</td>\n",
       "      <td>0</td>\n",
       "      <td>1</td>\n",
       "      <td>0</td>\n",
       "      <td>0</td>\n",
       "      <td>0</td>\n",
       "      <td>1</td>\n",
       "      <td>0</td>\n",
       "      <td>0</td>\n",
       "      <td>0</td>\n",
       "      <td>1</td>\n",
       "      <td>0</td>\n",
       "      <td>0</td>\n",
       "    </tr>\n",
       "    <tr>\n",
       "      <th>1</th>\n",
       "      <td>57</td>\n",
       "      <td>1</td>\n",
       "      <td>999</td>\n",
       "      <td>0</td>\n",
       "      <td>1.1</td>\n",
       "      <td>93.994</td>\n",
       "      <td>-36.4</td>\n",
       "      <td>4.857</td>\n",
       "      <td>5191.0</td>\n",
       "      <td>0</td>\n",
       "      <td>0</td>\n",
       "      <td>0</td>\n",
       "      <td>0</td>\n",
       "      <td>0</td>\n",
       "      <td>0</td>\n",
       "      <td>1</td>\n",
       "      <td>0</td>\n",
       "      <td>0</td>\n",
       "      <td>0</td>\n",
       "      <td>0</td>\n",
       "      <td>1</td>\n",
       "      <td>0</td>\n",
       "      <td>0</td>\n",
       "      <td>0</td>\n",
       "      <td>0</td>\n",
       "      <td>1</td>\n",
       "      <td>0</td>\n",
       "      <td>0</td>\n",
       "      <td>0</td>\n",
       "      <td>0</td>\n",
       "      <td>1</td>\n",
       "      <td>0</td>\n",
       "      <td>0</td>\n",
       "      <td>0</td>\n",
       "      <td>0</td>\n",
       "      <td>0</td>\n",
       "      <td>1</td>\n",
       "      <td>0</td>\n",
       "      <td>0</td>\n",
       "      <td>0</td>\n",
       "      <td>0</td>\n",
       "      <td>0</td>\n",
       "      <td>1</td>\n",
       "      <td>0</td>\n",
       "      <td>0</td>\n",
       "      <td>0</td>\n",
       "      <td>1</td>\n",
       "      <td>0</td>\n",
       "      <td>0</td>\n",
       "      <td>0</td>\n",
       "      <td>1</td>\n",
       "      <td>0</td>\n",
       "      <td>0</td>\n",
       "    </tr>\n",
       "    <tr>\n",
       "      <th>2</th>\n",
       "      <td>37</td>\n",
       "      <td>1</td>\n",
       "      <td>999</td>\n",
       "      <td>0</td>\n",
       "      <td>1.1</td>\n",
       "      <td>93.994</td>\n",
       "      <td>-36.4</td>\n",
       "      <td>4.857</td>\n",
       "      <td>5191.0</td>\n",
       "      <td>0</td>\n",
       "      <td>0</td>\n",
       "      <td>0</td>\n",
       "      <td>0</td>\n",
       "      <td>0</td>\n",
       "      <td>0</td>\n",
       "      <td>1</td>\n",
       "      <td>0</td>\n",
       "      <td>0</td>\n",
       "      <td>0</td>\n",
       "      <td>0</td>\n",
       "      <td>1</td>\n",
       "      <td>0</td>\n",
       "      <td>0</td>\n",
       "      <td>0</td>\n",
       "      <td>0</td>\n",
       "      <td>1</td>\n",
       "      <td>0</td>\n",
       "      <td>0</td>\n",
       "      <td>0</td>\n",
       "      <td>0</td>\n",
       "      <td>0</td>\n",
       "      <td>0</td>\n",
       "      <td>0</td>\n",
       "      <td>1</td>\n",
       "      <td>0</td>\n",
       "      <td>0</td>\n",
       "      <td>1</td>\n",
       "      <td>0</td>\n",
       "      <td>0</td>\n",
       "      <td>0</td>\n",
       "      <td>0</td>\n",
       "      <td>0</td>\n",
       "      <td>1</td>\n",
       "      <td>0</td>\n",
       "      <td>0</td>\n",
       "      <td>0</td>\n",
       "      <td>1</td>\n",
       "      <td>0</td>\n",
       "      <td>0</td>\n",
       "      <td>0</td>\n",
       "      <td>1</td>\n",
       "      <td>0</td>\n",
       "      <td>0</td>\n",
       "    </tr>\n",
       "    <tr>\n",
       "      <th>3</th>\n",
       "      <td>40</td>\n",
       "      <td>1</td>\n",
       "      <td>999</td>\n",
       "      <td>0</td>\n",
       "      <td>1.1</td>\n",
       "      <td>93.994</td>\n",
       "      <td>-36.4</td>\n",
       "      <td>4.857</td>\n",
       "      <td>5191.0</td>\n",
       "      <td>0</td>\n",
       "      <td>0</td>\n",
       "      <td>0</td>\n",
       "      <td>0</td>\n",
       "      <td>0</td>\n",
       "      <td>0</td>\n",
       "      <td>0</td>\n",
       "      <td>0</td>\n",
       "      <td>0</td>\n",
       "      <td>0</td>\n",
       "      <td>0</td>\n",
       "      <td>1</td>\n",
       "      <td>0</td>\n",
       "      <td>0</td>\n",
       "      <td>1</td>\n",
       "      <td>0</td>\n",
       "      <td>0</td>\n",
       "      <td>0</td>\n",
       "      <td>0</td>\n",
       "      <td>0</td>\n",
       "      <td>0</td>\n",
       "      <td>0</td>\n",
       "      <td>0</td>\n",
       "      <td>0</td>\n",
       "      <td>0</td>\n",
       "      <td>0</td>\n",
       "      <td>0</td>\n",
       "      <td>1</td>\n",
       "      <td>0</td>\n",
       "      <td>0</td>\n",
       "      <td>0</td>\n",
       "      <td>0</td>\n",
       "      <td>0</td>\n",
       "      <td>1</td>\n",
       "      <td>0</td>\n",
       "      <td>0</td>\n",
       "      <td>0</td>\n",
       "      <td>1</td>\n",
       "      <td>0</td>\n",
       "      <td>0</td>\n",
       "      <td>0</td>\n",
       "      <td>1</td>\n",
       "      <td>0</td>\n",
       "      <td>0</td>\n",
       "    </tr>\n",
       "    <tr>\n",
       "      <th>4</th>\n",
       "      <td>56</td>\n",
       "      <td>1</td>\n",
       "      <td>999</td>\n",
       "      <td>0</td>\n",
       "      <td>1.1</td>\n",
       "      <td>93.994</td>\n",
       "      <td>-36.4</td>\n",
       "      <td>4.857</td>\n",
       "      <td>5191.0</td>\n",
       "      <td>0</td>\n",
       "      <td>0</td>\n",
       "      <td>0</td>\n",
       "      <td>0</td>\n",
       "      <td>0</td>\n",
       "      <td>0</td>\n",
       "      <td>1</td>\n",
       "      <td>0</td>\n",
       "      <td>0</td>\n",
       "      <td>0</td>\n",
       "      <td>0</td>\n",
       "      <td>1</td>\n",
       "      <td>0</td>\n",
       "      <td>0</td>\n",
       "      <td>0</td>\n",
       "      <td>0</td>\n",
       "      <td>1</td>\n",
       "      <td>0</td>\n",
       "      <td>0</td>\n",
       "      <td>0</td>\n",
       "      <td>0</td>\n",
       "      <td>0</td>\n",
       "      <td>0</td>\n",
       "      <td>0</td>\n",
       "      <td>0</td>\n",
       "      <td>0</td>\n",
       "      <td>1</td>\n",
       "      <td>1</td>\n",
       "      <td>0</td>\n",
       "      <td>0</td>\n",
       "      <td>0</td>\n",
       "      <td>0</td>\n",
       "      <td>0</td>\n",
       "      <td>1</td>\n",
       "      <td>0</td>\n",
       "      <td>0</td>\n",
       "      <td>0</td>\n",
       "      <td>1</td>\n",
       "      <td>0</td>\n",
       "      <td>0</td>\n",
       "      <td>0</td>\n",
       "      <td>1</td>\n",
       "      <td>0</td>\n",
       "      <td>0</td>\n",
       "    </tr>\n",
       "  </tbody>\n",
       "</table>\n",
       "</div>"
      ],
      "text/plain": [
       "   age  campaign  pdays  previous  emp.var.rate  cons.price.idx  \\\n",
       "0   56         1    999         0           1.1          93.994   \n",
       "1   57         1    999         0           1.1          93.994   \n",
       "2   37         1    999         0           1.1          93.994   \n",
       "3   40         1    999         0           1.1          93.994   \n",
       "4   56         1    999         0           1.1          93.994   \n",
       "\n",
       "   cons.conf.idx  euribor3m  nr.employed  job_blue-collar  job_entrepreneur  \\\n",
       "0          -36.4      4.857       5191.0                0                 0   \n",
       "1          -36.4      4.857       5191.0                0                 0   \n",
       "2          -36.4      4.857       5191.0                0                 0   \n",
       "3          -36.4      4.857       5191.0                0                 0   \n",
       "4          -36.4      4.857       5191.0                0                 0   \n",
       "\n",
       "   job_housemaid  job_management  job_retired  job_self-employed  \\\n",
       "0              1               0            0                  0   \n",
       "1              0               0            0                  0   \n",
       "2              0               0            0                  0   \n",
       "3              0               0            0                  0   \n",
       "4              0               0            0                  0   \n",
       "\n",
       "   job_services  job_student  job_technician  job_unemployed  job_unknown  \\\n",
       "0             0            0               0               0            0   \n",
       "1             1            0               0               0            0   \n",
       "2             1            0               0               0            0   \n",
       "3             0            0               0               0            0   \n",
       "4             1            0               0               0            0   \n",
       "\n",
       "   marital_married  marital_single  marital_unknown  education_basic.6y  \\\n",
       "0                1               0                0                   0   \n",
       "1                1               0                0                   0   \n",
       "2                1               0                0                   0   \n",
       "3                1               0                0                   1   \n",
       "4                1               0                0                   0   \n",
       "\n",
       "   education_basic.9y  education_high.school  education_illiterate  \\\n",
       "0                   0                      0                     0   \n",
       "1                   0                      1                     0   \n",
       "2                   0                      1                     0   \n",
       "3                   0                      0                     0   \n",
       "4                   0                      1                     0   \n",
       "\n",
       "   education_professional.course  education_university.degree  \\\n",
       "0                              0                            0   \n",
       "1                              0                            0   \n",
       "2                              0                            0   \n",
       "3                              0                            0   \n",
       "4                              0                            0   \n",
       "\n",
       "   education_unknown  default_unknown  default_yes  housing_unknown  \\\n",
       "0                  0                0            0                0   \n",
       "1                  0                1            0                0   \n",
       "2                  0                0            0                0   \n",
       "3                  0                0            0                0   \n",
       "4                  0                0            0                0   \n",
       "\n",
       "   housing_yes  loan_unknown  loan_yes  contact_telephone  month_aug  \\\n",
       "0            0             0         0                  1          0   \n",
       "1            0             0         0                  1          0   \n",
       "2            1             0         0                  1          0   \n",
       "3            0             0         0                  1          0   \n",
       "4            0             0         1                  1          0   \n",
       "\n",
       "   month_dec  month_jul  month_jun  month_mar  month_may  month_nov  \\\n",
       "0          0          0          0          0          1          0   \n",
       "1          0          0          0          0          1          0   \n",
       "2          0          0          0          0          1          0   \n",
       "3          0          0          0          0          1          0   \n",
       "4          0          0          0          0          1          0   \n",
       "\n",
       "   month_oct  month_sep  day_of_week_mon  day_of_week_thu  day_of_week_tue  \\\n",
       "0          0          0                1                0                0   \n",
       "1          0          0                1                0                0   \n",
       "2          0          0                1                0                0   \n",
       "3          0          0                1                0                0   \n",
       "4          0          0                1                0                0   \n",
       "\n",
       "   day_of_week_wed  poutcome_nonexistent  poutcome_success  y_yes  \n",
       "0                0                     1                 0      0  \n",
       "1                0                     1                 0      0  \n",
       "2                0                     1                 0      0  \n",
       "3                0                     1                 0      0  \n",
       "4                0                     1                 0      0  "
      ]
     },
     "execution_count": 72,
     "metadata": {},
     "output_type": "execute_result"
    }
   ],
   "source": [
    "df2.head()"
   ]
  },
  {
   "cell_type": "markdown",
   "id": "533bd49a",
   "metadata": {},
   "source": [
    "#### Scaling and chosing our appropiate number of cluster using elbow method"
   ]
  },
  {
   "cell_type": "code",
   "execution_count": 73,
   "id": "35641355",
   "metadata": {},
   "outputs": [
    {
     "data": {
      "image/png": "[encoded data removed]",
      "text/plain": [
       "<Figure size 432x288 with 1 Axes>"
      ]
     },
     "metadata": {
      "needs_background": "light"
     },
     "output_type": "display_data"
    }
   ],
   "source": [
    "from sklearn.cluster import KMeans\n",
    "import matplotlib.pyplot as plt\n",
    "\n",
    "# Scale the data using MinMaxScaler\n",
    "from sklearn.preprocessing import MinMaxScaler\n",
    "scaler = MinMaxScaler()\n",
    "X_cluster_scaled = scaler.fit_transform(df2)\n",
    "\n",
    "# Apply KMeans clustering with different number of clusters\n",
    "inertia = []\n",
    "for k in range(1, 11):\n",
    "    kmeans = KMeans(n_clusters=k, random_state=42)\n",
    "    kmeans.fit(X_cluster_scaled)\n",
    "    inertia.append(kmeans.inertia_)\n",
    "\n",
    "# Plot the elbow curve\n",
    "plt.plot(range(1, 11), inertia)\n",
    "plt.xlabel('Number of clusters')\n",
    "plt.ylabel('Inertia')\n",
    "plt.title('Elbow curve')\n",
    "plt.show()\n",
    "\n",
    "\n"
   ]
  },
  {
   "cell_type": "markdown",
   "id": "b4388de3",
   "metadata": {},
   "source": [
    "#### We chose n_cluster as 2"
   ]
  },
  {
   "cell_type": "code",
   "execution_count": 74,
   "id": "3af613e6",
   "metadata": {},
   "outputs": [],
   "source": [
    "# Choose the number of clusters and fit the KMeans model\n",
    "kmeans = KMeans(n_clusters=2, random_state=42)\n",
    "kmeans.fit(X_cluster_scaled)\n",
    "\n",
    "# Add the cluster labels to the original dataframe\n",
    "df2['cluster'] = kmeans.labels_\n",
    "df['cluster'] = kmeans.labels_"
   ]
  },
  {
   "cell_type": "code",
   "execution_count": 75,
   "id": "a90af8c2",
   "metadata": {
    "scrolled": true
   },
   "outputs": [
    {
     "data": {
      "text/plain": [
       "0    36537\n",
       "1     4639\n",
       "Name: y_yes, dtype: int64"
      ]
     },
     "execution_count": 75,
     "metadata": {},
     "output_type": "execute_result"
    }
   ],
   "source": [
    "df2[\"y_yes\"].value_counts()"
   ]
  },
  {
   "cell_type": "markdown",
   "id": "3fd46e01",
   "metadata": {},
   "source": [
    "Here 1 means that the customer has subscribed to the term deposit"
   ]
  },
  {
   "cell_type": "code",
   "execution_count": 76,
   "id": "3427a048",
   "metadata": {
    "scrolled": true
   },
   "outputs": [
    {
     "data": {
      "text/plain": [
       "0    25910\n",
       "1     1282\n",
       "Name: y_yes, dtype: int64"
      ]
     },
     "execution_count": 76,
     "metadata": {},
     "output_type": "execute_result"
    }
   ],
   "source": [
    "df2[df2['cluster'] ==1][\"y_yes\"].value_counts()"
   ]
  },
  {
   "cell_type": "code",
   "execution_count": 77,
   "id": "34538616",
   "metadata": {
    "scrolled": false
   },
   "outputs": [
    {
     "data": {
      "text/plain": [
       "0    10627\n",
       "1     3357\n",
       "Name: y_yes, dtype: int64"
      ]
     },
     "execution_count": 77,
     "metadata": {},
     "output_type": "execute_result"
    }
   ],
   "source": [
    "df2[df2['cluster'] ==0][\"y_yes\"].value_counts()"
   ]
  },
  {
   "cell_type": "markdown",
   "id": "f0cfdf15",
   "metadata": {},
   "source": [
    "We see that in our cluster = 1, there are more than 31 % of the data are comprised of customers having the term deposit.\n",
    "\n",
    "On the other hand in the cluster = 0, there are only 95% of the data are comprised of customers not having the term deposit\n",
    "\n",
    "So we may conclude that we have successfully clustered our customer and we have defined whether each cluster of customer have subscribed to the term deposit. Here cluster 1 are the customers having subscribed to the term deposit"
   ]
  },
  {
   "cell_type": "markdown",
   "id": "6a5c19d7",
   "metadata": {},
   "source": [
    "#### Finding the features that are highly correlated with our clusters "
   ]
  },
  {
   "cell_type": "code",
   "execution_count": 78,
   "id": "50eb7052",
   "metadata": {},
   "outputs": [
    {
     "data": {
      "text/plain": [
       "previous                        -0.458838\n",
       "y_yes                           -0.288949\n",
       "poutcome_success                -0.258133\n",
       "month_sep                       -0.165214\n",
       "month_mar                       -0.161651\n",
       "month_oct                       -0.159366\n",
       "month_may                       -0.144522\n",
       "job_student                     -0.138265\n",
       "marital_single                  -0.115557\n",
       "job_retired                     -0.088876\n",
       "month_dec                       -0.085183\n",
       "housing_yes                     -0.063781\n",
       "education_university.degree     -0.030902\n",
       "day_of_week_mon                 -0.028518\n",
       "education_high.school           -0.022580\n",
       "day_of_week_thu                 -0.013639\n",
       "job_unemployed                  -0.010466\n",
       "marital_unknown                 -0.009119\n",
       "loan_yes                        -0.002442\n",
       "education_illiterate            -0.002176\n",
       "education_unknown               -0.001653\n",
       "job_management                   0.001005\n",
       "housing_unknown                  0.004760\n",
       "loan_unknown                     0.004760\n",
       "default_yes                      0.006121\n",
       "job_self-employed                0.008033\n",
       "job_services                     0.011167\n",
       "education_basic.9y               0.014486\n",
       "job_unknown                      0.017296\n",
       "education_basic.6y               0.018582\n",
       "job_entrepreneur                 0.019570\n",
       "education_professional.course    0.020094\n",
       "age                              0.022696\n",
       "day_of_week_tue                  0.025835\n",
       "day_of_week_wed                  0.032127\n",
       "job_housemaid                    0.035293\n",
       "job_blue-collar                  0.038021\n",
       "job_technician                   0.048052\n",
       "month_nov                        0.071319\n",
       "marital_married                  0.097103\n",
       "campaign                         0.125252\n",
       "month_jun                        0.131821\n",
       "month_aug                        0.157189\n",
       "default_unknown                  0.187543\n",
       "month_jul                        0.263265\n",
       "pdays                            0.271718\n",
       "cons.conf.idx                    0.327329\n",
       "contact_telephone                0.402594\n",
       "poutcome_nonexistent             0.513614\n",
       "cons.price.idx                   0.671042\n",
       "nr.employed                      0.900565\n",
       "emp.var.rate                     0.937155\n",
       "euribor3m                        0.971648\n",
       "Name: cluster, dtype: float64"
      ]
     },
     "execution_count": 78,
     "metadata": {},
     "output_type": "execute_result"
    }
   ],
   "source": [
    "df2.corr()['cluster'].sort_values()[:-1]"
   ]
  },
  {
   "cell_type": "code",
   "execution_count": 79,
   "id": "1844578a",
   "metadata": {},
   "outputs": [
    {
     "data": {
      "image/png": "[encoded data removed]",
      "text/plain": [
       "<Figure size 1440x720 with 1 Axes>"
      ]
     },
     "metadata": {
      "needs_background": "light"
     },
     "output_type": "display_data"
    }
   ],
   "source": [
    "plt.figure(figsize = (20,10))\n",
    "sns.barplot(x =df2.corr()['cluster'].sort_values()[:-1].index,y =df2.corr()['cluster'].sort_values()[:-1].values)\n",
    "plt.xticks(rotation = 90);"
   ]
  },
  {
   "cell_type": "markdown",
   "id": "12939e70",
   "metadata": {},
   "source": [
    "**Our Insights:**\n",
    "\n",
    "Here we see that the features of 'previous','y_yes' and 'poutcome_success are highly correlated with the clusters and the features of 'euribor3m,, 'emp.var.rate' and 'nr employed' are also correlated to our clusters"
   ]
  },
  {
   "cell_type": "markdown",
   "id": "fbd5a941",
   "metadata": {},
   "source": [
    "#### Visualizing some of the important features with respect to the clusters"
   ]
  },
  {
   "cell_type": "code",
   "execution_count": 80,
   "id": "c358e9ad",
   "metadata": {},
   "outputs": [
    {
     "data": {
      "image/png": "[encoded data removed]",
      "text/plain": [
       "<Figure size 1080x720 with 4 Axes>"
      ]
     },
     "metadata": {
      "needs_background": "light"
     },
     "output_type": "display_data"
    }
   ],
   "source": [
    "# Import necessary libraries\n",
    "import matplotlib.pyplot as plt\n",
    "import seaborn as sns\n",
    "\n",
    "# Set figure size\n",
    "plt.figure(figsize=(15,10))\n",
    "\n",
    "# Create subplots for first 4 plots\n",
    "plt.subplot(2, 2, 1)\n",
    "sns.scatterplot(data=df2,x='campaign', y='age', hue='cluster')\n",
    "plt.subplot(2, 2, 2)\n",
    "sns.countplot(data=df2,x='poutcome_nonexistent', hue='cluster')\n",
    "plt.subplot(2, 2, 3)\n",
    "sns.countplot(data=df2,x='loan_yes', hue='cluster')\n",
    "plt.subplot(2, 2, 4)\n",
    "sns.countplot(data=df2,x='previous', hue='cluster')\n",
    "plt.show()\n",
    "# Show the plot\n",
    "plt.show()\n"
   ]
  },
  {
   "cell_type": "code",
   "execution_count": 81,
   "id": "ec8f70c0",
   "metadata": {},
   "outputs": [
    {
     "data": {
      "image/png": "[encoded data removed]",
      "text/plain": [
       "<Figure size 1080x432 with 1 Axes>"
      ]
     },
     "metadata": {
      "needs_background": "light"
     },
     "output_type": "display_data"
    }
   ],
   "source": [
    "plt.figure(figsize = (15,6))\n",
    "sns.countplot(data =df,x='month',hue ='cluster');"
   ]
  },
  {
   "cell_type": "code",
   "execution_count": 82,
   "id": "471cbb08",
   "metadata": {},
   "outputs": [
    {
     "data": {
      "image/png": "[encoded data removed]",
      "text/plain": [
       "<Figure size 1080x432 with 1 Axes>"
      ]
     },
     "metadata": {
      "needs_background": "light"
     },
     "output_type": "display_data"
    }
   ],
   "source": [
    "plt.figure(figsize = (15,6))\n",
    "sns.countplot(data =df,x='job',hue ='cluster');"
   ]
  },
  {
   "cell_type": "markdown",
   "id": "3d2cb5b2",
   "metadata": {},
   "source": [
    "### Our Suggestion to the marketing team:"
   ]
  },
  {
   "cell_type": "markdown",
   "id": "3c60dd0b",
   "metadata": {},
   "source": [
    "1) The new marketing campaign should be targeted mostly to new customers holding jobs in admin, blue-collar or who is a technician.\n",
    "\n",
    "2) The new marketing campaign should be run on May and June, as it was previously seen during these months we were able to onboard many customer to subscribe to the term deposit\n",
    "\n",
    "3) The new marketing campaign should be targeted to customers of age 30-45; and to those who were previously not targeted for marketing .\n",
    "\n",
    "4) Finally we should be marketing to customers who does not have a personal loan, as they do not have a burden to pay off debts they can save some by subscribing to the term deposit.\n",
    "\n",
    "5) A great marketing strategy could be that we may run a separate ad campaign to bring in customers who were previously reluctant to subscribe to the term deposit, like a higher rate deposit scheme for students only could be run as these students would eventually get jobs and become a great asset to the company portfolio."
   ]
  },
  {
   "cell_type": "markdown",
   "id": "09f45218",
   "metadata": {},
   "source": [
    "# Model Comparison Report"
   ]
  },
  {
   "attachments": {
    "classification%20models.JPG": {
     "image/jpeg": "[encoded data removed]"
    }
   },
   "cell_type": "markdown",
   "id": "14cde626",
   "metadata": {},
   "source": [
    "To predict whether a customer will subscribe to a term deposit based on several features we have run many machine learning  classification models like Logistic regression, decision trees, random forest, gradient boosting, SVC, KNN etc. We also wanted to improve our model by hyperparameter tuning and also by trying to train an artificial neural network.\n",
    "\n",
    "Our research suggested Random Forest Classifier as the best prediction results. We have run the model and got great accuracy score. \n",
    "\n",
    "It performed really well when we tested the data on previouly unseen data/ randomly picking data and predicting the outcome.\n",
    "\n",
    "![classification%20models.JPG](attachment:classification%20models.JPG)"
   ]
  },
  {
   "cell_type": "markdown",
   "id": "5147d9f9",
   "metadata": {},
   "source": [
    "# Report on Challenges faced"
   ]
  },
  {
   "cell_type": "markdown",
   "id": "e5182249",
   "metadata": {},
   "source": [
    "The dataset was a challenging problem right from the start. Here are some of the challenges faced: \n",
    "\n",
    "1) First of the dataset is really quite large. It took a long time to train our models; we overcame the challenge by dividing the dataset into smaller batches and then ran the prediction on these smaller batches to get the idea, which model will work best.\n",
    "\n",
    "2) The dataset had many missing values disguised as 'unknown'. For some of the features it made sense that the data could be 'unknown' but for other features it may be a problem. In the end we decided to keep the 'unknown' data points as a class of its own to prevent model complexity.\n",
    "\n",
    "3) The dataset was highly imbalanced that became a problem when we were getting biased accuracy scores. We overcame the problem by using upsampling techniques like SMOTE."
   ]
  },
  {
   "cell_type": "markdown",
   "id": "22081506",
   "metadata": {},
   "source": [
    "# Conclusion"
   ]
  },
  {
   "cell_type": "markdown",
   "id": "dc733506",
   "metadata": {},
   "source": [
    "The bank marketing dataset is a fascinating dataset which tests one's boundaries and scope of knowledge related to machine learning classification algorithms, imbalanced datasets, model creation, tuning and creating a predicting model that correctly predicts whether a customer will subscribe to a term deposit or not. We overcame lots of challenges to build a great predictive model and cluster customers based on similar features to suggest a great marketing campaign. "
   ]
  }
 ],
 "metadata": {
  "kernelspec": {
   "display_name": "Python 3 (ipykernel)",
   "language": "python",
   "name": "python3"
  },
  "language_info": {
   "codemirror_mode": {
    "name": "ipython",
    "version": 3
   },
   "file_extension": ".py",
   "mimetype": "text/x-python",
   "name": "python",
   "nbconvert_exporter": "python",
   "pygments_lexer": "ipython3",
   "version": "3.9.7"
  }
 },
 "nbformat": 4,
 "nbformat_minor": 5
}
